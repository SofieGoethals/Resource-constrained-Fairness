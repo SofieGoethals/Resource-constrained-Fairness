{
 "cells": [
  {
   "cell_type": "code",
   "execution_count": 1,
   "metadata": {},
   "outputs": [],
   "source": [
    "import numpy as np \n",
    "import oxonfair\n",
    "from oxonfair.utils import group_metrics as gm\n",
    "from matplotlib import pyplot as plt\n",
    "from sklearn.metrics import accuracy_score"
   ]
  },
  {
   "cell_type": "code",
   "execution_count": 87,
   "metadata": {},
   "outputs": [],
   "source": [
    "def get_all_celeba_attributes():\n",
    "    return ['5_o_Clock_Shadow', 'Arched_Eyebrows', 'Attractive', 'Bags_Under_Eyes', 'Bald', 'Bangs', 'Big_Lips',\n",
    "            'Big_Nose', 'Black_Hair', 'Blond_Hair', 'Blurry', 'Brown_Hair', 'Bushy_Eyebrows', 'Chubby',\n",
    "            'Double_Chin', 'Eyeglasses', 'Goatee', 'Gray_Hair', 'Heavy_Makeup', 'High_Cheekbones', 'Male',\n",
    "            'Mouth_Slightly_Open', 'Mustache', 'Narrow_Eyes', 'No_Beard', 'Oval_Face', 'Pale_Skin',\n",
    "            'Pointy_Nose', 'Receding_Hairline', 'Rosy_Cheeks', 'Sideburns', 'Smiling', 'Straight_Hair',\n",
    "            'Wavy_Hair', 'Wearing_Earrings', 'Wearing_Hat', 'Wearing_Lipstick', 'Wearing_Necklace',\n",
    "            'Wearing_Necktie', 'Young']"
   ]
  },
  {
   "cell_type": "code",
   "execution_count": 88,
   "metadata": {},
   "outputs": [],
   "source": [
    "def gender_independent_attributes(): \n",
    "    return ['Bags_Under_Eyes', 'Bangs', 'Black_Hair', 'Blond_Hair', 'Brown_Hair', 'Chubby',\n",
    "            'Eyeglasses', 'Gray_Hair', 'High_Cheekbones', 'Mouth_Slightly_Open', 'Narrow_Eyes',\n",
    "            'Smiling', 'Wearing_Earrings', 'Wearing_Hat']"
   ]
  },
  {
   "cell_type": "code",
   "execution_count": 94,
   "metadata": {},
   "outputs": [
    {
     "data": {
      "text/plain": [
       "3"
      ]
     },
     "execution_count": 94,
     "metadata": {},
     "output_type": "execute_result"
    }
   ],
   "source": [
    "get_all_celeba_attributes().index(gender_independent_attributes()[0])"
   ]
  },
  {
   "cell_type": "code",
   "execution_count": 93,
   "metadata": {},
   "outputs": [
    {
     "data": {
      "text/plain": [
       "'Bags_Under_Eyes'"
      ]
     },
     "execution_count": 93,
     "metadata": {},
     "output_type": "execute_result"
    }
   ],
   "source": [
    "gender_independent_attributes()[0]"
   ]
  },
  {
   "cell_type": "code",
   "execution_count": 2,
   "metadata": {},
   "outputs": [],
   "source": [
    "full_val = np.load('All_Attributes_outputs_val.npy')\n",
    "full_test = np.load('All_Attributes_outputs_test.npy')\n",
    "\n",
    "#full_val = np.load('resnet50_celeba/All_Attributes_Male_resnet50/resnet50_weights__outputs_val.npy')\n",
    "#full_test = np.load('resnet50_celeba/All_Attributes_Male_resnet50/resnet50_weights__outputs_test.npy')\n",
    "\n",
    "target_attribute = 'Wearing_Earrings' #can be like 'Smiling' or 'Wearing_Earrings' or 'Chubby'\n",
    "#val=np.load('resnet50_celeba/' + target_attribute + '_Male_resnet50/' + target_attribute + '_resnet50_weights__outputs_val.npy')\n",
    "val_target=np.load('resnet50_celeba/' + target_attribute + '_Male_resnet50/' + target_attribute + '_resnet50_weights__target_labels_val.npy')\n",
    "val_groups=np.load('resnet50_celeba/' + target_attribute + '_Male_resnet50/' + target_attribute + '_resnet50_weights__protected_labels_val.npy')\n",
    "\n",
    "#test=np.load('resnet50_celeba/' + target_attribute + '_Male_resnet50/' + target_attribute + '_resnet50_weights__outputs_test.npy')\n",
    "test_target=np.load('resnet50_celeba/' + target_attribute + '_Male_resnet50/' + target_attribute + '_resnet50_weights__target_labels_test.npy')\n",
    "test_groups=np.load('resnet50_celeba/' + target_attribute + '_Male_resnet50/' + target_attribute + '_resnet50_weights__protected_labels_test.npy')\n",
    "\n",
    "#domain independent results (predicted result for the targer attribute)\n",
    "DI_prediction = np.load('resnet50_celeba/DI_attribute_predictions/' + target_attribute + '_DI_sum_prob.npy')\n",
    "#DI_prediction = np.load('resnet50_celeba/DI_max/' + target_attribute + '_DI_max.npy')"
   ]
  },
  {
   "cell_type": "code",
   "execution_count": 3,
   "metadata": {},
   "outputs": [
    {
     "data": {
      "text/plain": [
       "array([ 3.68289566, -3.86832571,  4.57690334, ...,  5.62779093,\n",
       "       -6.00241613, -2.22089195])"
      ]
     },
     "execution_count": 3,
     "metadata": {},
     "output_type": "execute_result"
    }
   ],
   "source": [
    "full_test[:,21]"
   ]
  },
  {
   "cell_type": "code",
   "execution_count": 4,
   "metadata": {},
   "outputs": [
    {
     "data": {
      "text/plain": [
       "(19867, 40)"
      ]
     },
     "execution_count": 4,
     "metadata": {},
     "output_type": "execute_result"
    }
   ],
   "source": [
    "full_val.shape"
   ]
  },
  {
   "cell_type": "code",
   "execution_count": 5,
   "metadata": {},
   "outputs": [
    {
     "data": {
      "text/plain": [
       "(19962, 40)"
      ]
     },
     "execution_count": 5,
     "metadata": {},
     "output_type": "execute_result"
    }
   ],
   "source": [
    "full_test.shape"
   ]
  },
  {
   "cell_type": "code",
   "execution_count": 6,
   "metadata": {},
   "outputs": [],
   "source": [
    "val = full_val[:, [34, 20]]\n",
    "test = full_test[:, [34,20]]"
   ]
  },
  {
   "cell_type": "code",
   "execution_count": 7,
   "metadata": {},
   "outputs": [],
   "source": [
    "from sklearn.metrics import accuracy_score, recall_score\n",
    "DI_acc, DI_eo = (accuracy_score(test_target, DI_prediction),\n",
    "np.abs(recall_score(test_target[test_groups==0],DI_prediction[test_groups==0])-recall_score(test_target[test_groups==1],DI_prediction[test_groups==1])))"
   ]
  },
  {
   "cell_type": "code",
   "execution_count": 80,
   "metadata": {},
   "outputs": [],
   "source": [
    "from sklearn.metrics import confusion_matrix\n",
    "TN, FP, FN, TP = confusion_matrix(test_target, DI_prediction, labels=[0, 1]).ravel()\n",
    "#print(TN, FP, FN, TP)"
   ]
  },
  {
   "cell_type": "code",
   "execution_count": 84,
   "metadata": {},
   "outputs": [],
   "source": [
    "DI_min_group_acc = np.minimum(TP / (1e-6 + TP + FN), TN / (1e-6 + TN + FP))"
   ]
  },
  {
   "cell_type": "code",
   "execution_count": 86,
   "metadata": {},
   "outputs": [
    {
     "data": {
      "text/plain": [
       "(0.8881374611762348, 0.18829585327175996, 0.531636363507482)"
      ]
     },
     "execution_count": 86,
     "metadata": {},
     "output_type": "execute_result"
    }
   ],
   "source": [
    "DI_acc, DI_eo, mimimum_DI_acc"
   ]
  },
  {
   "cell_type": "code",
   "execution_count": null,
   "metadata": {},
   "outputs": [],
   "source": []
  },
  {
   "cell_type": "code",
   "execution_count": 9,
   "metadata": {},
   "outputs": [
    {
     "data": {
      "text/plain": [
       "0.8881374611762348"
      ]
     },
     "execution_count": 9,
     "metadata": {},
     "output_type": "execute_result"
    }
   ],
   "source": [
    "accuracy_score(test_target, DI_prediction) # sanity check to see we've loaded the data correctly"
   ]
  },
  {
   "cell_type": "code",
   "execution_count": 10,
   "metadata": {},
   "outputs": [
    {
     "data": {
      "text/plain": [
       "(19962,)"
      ]
     },
     "execution_count": 10,
     "metadata": {},
     "output_type": "execute_result"
    }
   ],
   "source": [
    "test_target.shape"
   ]
  },
  {
   "cell_type": "code",
   "execution_count": 11,
   "metadata": {},
   "outputs": [
    {
     "data": {
      "text/plain": [
       "(19962,)"
      ]
     },
     "execution_count": 11,
     "metadata": {},
     "output_type": "execute_result"
    }
   ],
   "source": [
    "test_groups.shape"
   ]
  },
  {
   "cell_type": "code",
   "execution_count": 12,
   "metadata": {},
   "outputs": [],
   "source": [
    "#Helper functions.\n",
    "#We assume that classifiers return multiple scores roughly lying in [0,1].\n",
    "#To make this happen,we push logits through a sigmoid, and for square outputs we return them, and 1- them\n",
    "def sigmoid(array):\n",
    "    return np.stack ((1/(1+np.exp(array[:,0])),1/(1+np.exp(-array[:,0]))),1)\n",
    "def square_align(array):\n",
    "    return np.stack((array[:,1],1-array[:,1]),1)"
   ]
  },
  {
   "cell_type": "code",
   "execution_count": 13,
   "metadata": {},
   "outputs": [],
   "source": [
    "val_dict={'data':val, 'target':val_target, 'groups':val_groups}\n",
    "test_dict={'data':test,'target':test_target,'groups':test_groups}"
   ]
  },
  {
   "cell_type": "code",
   "execution_count": 14,
   "metadata": {},
   "outputs": [],
   "source": [
    "fpred=oxonfair.FairPredictor(sigmoid,val_dict,inferred_groups=square_align, use_fast=False)"
   ]
  },
  {
   "cell_type": "code",
   "execution_count": 43,
   "metadata": {},
   "outputs": [],
   "source": [
    "#fpred.fit(gm.accuracy,gm.equal_opportunity,0.005)\n",
    "fpred.fit(gm.min_accuracy.min, gm.accuracy,0)"
   ]
  },
  {
   "cell_type": "code",
   "execution_count": 44,
   "metadata": {},
   "outputs": [
    {
     "data": {
      "text/html": [
       "<div>\n",
       "<style scoped>\n",
       "    .dataframe tbody tr th:only-of-type {\n",
       "        vertical-align: middle;\n",
       "    }\n",
       "\n",
       "    .dataframe tbody tr th {\n",
       "        vertical-align: top;\n",
       "    }\n",
       "\n",
       "    .dataframe thead th {\n",
       "        text-align: right;\n",
       "    }\n",
       "</style>\n",
       "<table border=\"1\" class=\"dataframe\">\n",
       "  <thead>\n",
       "    <tr style=\"text-align: right;\">\n",
       "      <th></th>\n",
       "      <th></th>\n",
       "      <th>accuracy</th>\n",
       "      <th>balanced_accuracy</th>\n",
       "      <th>f1</th>\n",
       "      <th>mcc</th>\n",
       "      <th>precision</th>\n",
       "      <th>recall</th>\n",
       "      <th>roc_auc</th>\n",
       "      <th>count</th>\n",
       "      <th>pos_data_count</th>\n",
       "      <th>neg_data_count</th>\n",
       "      <th>pos_data_rate</th>\n",
       "      <th>pos_pred_rate</th>\n",
       "    </tr>\n",
       "    <tr>\n",
       "      <th></th>\n",
       "      <th>groups</th>\n",
       "      <th></th>\n",
       "      <th></th>\n",
       "      <th></th>\n",
       "      <th></th>\n",
       "      <th></th>\n",
       "      <th></th>\n",
       "      <th></th>\n",
       "      <th></th>\n",
       "      <th></th>\n",
       "      <th></th>\n",
       "      <th></th>\n",
       "      <th></th>\n",
       "    </tr>\n",
       "  </thead>\n",
       "  <tbody>\n",
       "    <tr>\n",
       "      <th rowspan=\"4\" valign=\"top\">original</th>\n",
       "      <th>Overall</th>\n",
       "      <td>0.924800</td>\n",
       "      <td>0.861855</td>\n",
       "      <td>0.794045</td>\n",
       "      <td>0.749278</td>\n",
       "      <td>0.831169</td>\n",
       "      <td>0.760095</td>\n",
       "      <td>0.965498</td>\n",
       "      <td>19867.0</td>\n",
       "      <td>3789.0</td>\n",
       "      <td>16078.0</td>\n",
       "      <td>0.190718</td>\n",
       "      <td>0.174410</td>\n",
       "    </tr>\n",
       "    <tr>\n",
       "      <th>0</th>\n",
       "      <td>0.878429</td>\n",
       "      <td>0.852288</td>\n",
       "      <td>0.805169</td>\n",
       "      <td>0.717852</td>\n",
       "      <td>0.833624</td>\n",
       "      <td>0.778593</td>\n",
       "      <td>0.940365</td>\n",
       "      <td>11409.0</td>\n",
       "      <td>3681.0</td>\n",
       "      <td>7728.0</td>\n",
       "      <td>0.322640</td>\n",
       "      <td>0.301341</td>\n",
       "    </tr>\n",
       "    <tr>\n",
       "      <th>1</th>\n",
       "      <td>0.987349</td>\n",
       "      <td>0.564036</td>\n",
       "      <td>0.207407</td>\n",
       "      <td>0.254912</td>\n",
       "      <td>0.518518</td>\n",
       "      <td>0.129630</td>\n",
       "      <td>0.960154</td>\n",
       "      <td>8458.0</td>\n",
       "      <td>108.0</td>\n",
       "      <td>8350.0</td>\n",
       "      <td>0.012769</td>\n",
       "      <td>0.003192</td>\n",
       "    </tr>\n",
       "    <tr>\n",
       "      <th>Maximum difference</th>\n",
       "      <td>0.108920</td>\n",
       "      <td>0.288252</td>\n",
       "      <td>0.597762</td>\n",
       "      <td>0.462940</td>\n",
       "      <td>0.315106</td>\n",
       "      <td>0.648963</td>\n",
       "      <td>0.019789</td>\n",
       "      <td>2951.0</td>\n",
       "      <td>3573.0</td>\n",
       "      <td>622.0</td>\n",
       "      <td>0.309871</td>\n",
       "      <td>0.298149</td>\n",
       "    </tr>\n",
       "    <tr>\n",
       "      <th rowspan=\"4\" valign=\"top\">updated</th>\n",
       "      <th>Overall</th>\n",
       "      <td>0.884633</td>\n",
       "      <td>0.886259</td>\n",
       "      <td>0.746123</td>\n",
       "      <td>0.688764</td>\n",
       "      <td>0.642871</td>\n",
       "      <td>0.888889</td>\n",
       "      <td>0.918004</td>\n",
       "      <td>19867.0</td>\n",
       "      <td>3789.0</td>\n",
       "      <td>16078.0</td>\n",
       "      <td>0.190718</td>\n",
       "      <td>0.263704</td>\n",
       "    </tr>\n",
       "    <tr>\n",
       "      <th>0</th>\n",
       "      <td>0.860461</td>\n",
       "      <td>0.868403</td>\n",
       "      <td>0.804663</td>\n",
       "      <td>0.705642</td>\n",
       "      <td>0.733721</td>\n",
       "      <td>0.890791</td>\n",
       "      <td>0.940251</td>\n",
       "      <td>11409.0</td>\n",
       "      <td>3681.0</td>\n",
       "      <td>7728.0</td>\n",
       "      <td>0.322640</td>\n",
       "      <td>0.391708</td>\n",
       "    </tr>\n",
       "    <tr>\n",
       "      <th>1</th>\n",
       "      <td>0.917238</td>\n",
       "      <td>0.871259</td>\n",
       "      <td>0.202733</td>\n",
       "      <td>0.289807</td>\n",
       "      <td>0.115584</td>\n",
       "      <td>0.824074</td>\n",
       "      <td>0.907260</td>\n",
       "      <td>8458.0</td>\n",
       "      <td>108.0</td>\n",
       "      <td>8350.0</td>\n",
       "      <td>0.012769</td>\n",
       "      <td>0.091038</td>\n",
       "    </tr>\n",
       "    <tr>\n",
       "      <th>Maximum difference</th>\n",
       "      <td>0.056777</td>\n",
       "      <td>0.002856</td>\n",
       "      <td>0.601929</td>\n",
       "      <td>0.415834</td>\n",
       "      <td>0.618137</td>\n",
       "      <td>0.066716</td>\n",
       "      <td>0.032991</td>\n",
       "      <td>2951.0</td>\n",
       "      <td>3573.0</td>\n",
       "      <td>622.0</td>\n",
       "      <td>0.309871</td>\n",
       "      <td>0.300670</td>\n",
       "    </tr>\n",
       "  </tbody>\n",
       "</table>\n",
       "</div>"
      ],
      "text/plain": [
       "                             accuracy  balanced_accuracy        f1       mcc  \\\n",
       "         groups                                                                \n",
       "original Overall             0.924800           0.861855  0.794045  0.749278   \n",
       "         0                   0.878429           0.852288  0.805169  0.717852   \n",
       "         1                   0.987349           0.564036  0.207407  0.254912   \n",
       "         Maximum difference  0.108920           0.288252  0.597762  0.462940   \n",
       "updated  Overall             0.884633           0.886259  0.746123  0.688764   \n",
       "         0                   0.860461           0.868403  0.804663  0.705642   \n",
       "         1                   0.917238           0.871259  0.202733  0.289807   \n",
       "         Maximum difference  0.056777           0.002856  0.601929  0.415834   \n",
       "\n",
       "                             precision    recall   roc_auc    count  \\\n",
       "         groups                                                       \n",
       "original Overall              0.831169  0.760095  0.965498  19867.0   \n",
       "         0                    0.833624  0.778593  0.940365  11409.0   \n",
       "         1                    0.518518  0.129630  0.960154   8458.0   \n",
       "         Maximum difference   0.315106  0.648963  0.019789   2951.0   \n",
       "updated  Overall              0.642871  0.888889  0.918004  19867.0   \n",
       "         0                    0.733721  0.890791  0.940251  11409.0   \n",
       "         1                    0.115584  0.824074  0.907260   8458.0   \n",
       "         Maximum difference   0.618137  0.066716  0.032991   2951.0   \n",
       "\n",
       "                             pos_data_count  neg_data_count  pos_data_rate  \\\n",
       "         groups                                                              \n",
       "original Overall                     3789.0         16078.0       0.190718   \n",
       "         0                           3681.0          7728.0       0.322640   \n",
       "         1                            108.0          8350.0       0.012769   \n",
       "         Maximum difference          3573.0           622.0       0.309871   \n",
       "updated  Overall                     3789.0         16078.0       0.190718   \n",
       "         0                           3681.0          7728.0       0.322640   \n",
       "         1                            108.0          8350.0       0.012769   \n",
       "         Maximum difference          3573.0           622.0       0.309871   \n",
       "\n",
       "                             pos_pred_rate  \n",
       "         groups                             \n",
       "original Overall                  0.174410  \n",
       "         0                        0.301341  \n",
       "         1                        0.003192  \n",
       "         Maximum difference       0.298149  \n",
       "updated  Overall                  0.263704  \n",
       "         0                        0.391708  \n",
       "         1                        0.091038  \n",
       "         Maximum difference       0.300670  "
      ]
     },
     "execution_count": 44,
     "metadata": {},
     "output_type": "execute_result"
    }
   ],
   "source": [
    "fpred.evaluate_groups(return_original=True)"
   ]
  },
  {
   "cell_type": "code",
   "execution_count": 67,
   "metadata": {},
   "outputs": [],
   "source": [
    "df = fpred.evaluate_groups(test_dict,return_original=True)"
   ]
  },
  {
   "cell_type": "code",
   "execution_count": 70,
   "metadata": {},
   "outputs": [
    {
     "data": {
      "text/plain": [
       "0.8664979178574345"
      ]
     },
     "execution_count": 70,
     "metadata": {},
     "output_type": "execute_result"
    }
   ],
   "source": [
    "df.accuracy.iloc[1]"
   ]
  },
  {
   "cell_type": "code",
   "execution_count": 46,
   "metadata": {},
   "outputs": [
    {
     "name": "stdout",
     "output_type": "stream",
     "text": [
      "(19867, 2) (19867,) (19867,) (19867, 2)\n"
     ]
    },
    {
     "data": {
      "image/png": "[encoded data removed]",
      "text/plain": [
       "<Figure size 640x480 with 1 Axes>"
      ]
     },
     "metadata": {},
     "output_type": "display_data"
    }
   ],
   "source": [
    "fpred.plot_frontier()\n",
    "#plt.ylim(bottom=0.9)"
   ]
  },
  {
   "cell_type": "code",
   "execution_count": 56,
   "metadata": {},
   "outputs": [
    {
     "data": {
      "text/html": [
       "<div>\n",
       "<style scoped>\n",
       "    .dataframe tbody tr th:only-of-type {\n",
       "        vertical-align: middle;\n",
       "    }\n",
       "\n",
       "    .dataframe tbody tr th {\n",
       "        vertical-align: top;\n",
       "    }\n",
       "\n",
       "    .dataframe thead th {\n",
       "        text-align: right;\n",
       "    }\n",
       "</style>\n",
       "<table border=\"1\" class=\"dataframe\">\n",
       "  <thead>\n",
       "    <tr style=\"text-align: right;\">\n",
       "      <th></th>\n",
       "      <th>original</th>\n",
       "      <th>updated</th>\n",
       "    </tr>\n",
       "  </thead>\n",
       "  <tbody>\n",
       "    <tr>\n",
       "      <th>accuracy</th>\n",
       "      <td>0.910380</td>\n",
       "      <td>0.865545</td>\n",
       "    </tr>\n",
       "    <tr>\n",
       "      <th>balanced_accuracy</th>\n",
       "      <td>0.853250</td>\n",
       "      <td>0.874117</td>\n",
       "    </tr>\n",
       "    <tr>\n",
       "      <th>f1</th>\n",
       "      <td>0.777072</td>\n",
       "      <td>0.732029</td>\n",
       "    </tr>\n",
       "    <tr>\n",
       "      <th>mcc</th>\n",
       "      <td>0.721488</td>\n",
       "      <td>0.664245</td>\n",
       "    </tr>\n",
       "    <tr>\n",
       "      <th>precision</th>\n",
       "      <td>0.799487</td>\n",
       "      <td>0.622305</td>\n",
       "    </tr>\n",
       "    <tr>\n",
       "      <th>recall</th>\n",
       "      <td>0.755879</td>\n",
       "      <td>0.888727</td>\n",
       "    </tr>\n",
       "    <tr>\n",
       "      <th>roc_auc</th>\n",
       "      <td>0.956715</td>\n",
       "      <td>0.915420</td>\n",
       "    </tr>\n",
       "  </tbody>\n",
       "</table>\n",
       "</div>"
      ],
      "text/plain": [
       "                   original   updated\n",
       "accuracy           0.910380  0.865545\n",
       "balanced_accuracy  0.853250  0.874117\n",
       "f1                 0.777072  0.732029\n",
       "mcc                0.721488  0.664245\n",
       "precision          0.799487  0.622305\n",
       "recall             0.755879  0.888727\n",
       "roc_auc            0.956715  0.915420"
      ]
     },
     "execution_count": 56,
     "metadata": {},
     "output_type": "execute_result"
    }
   ],
   "source": [
    "fpred.evaluate(test_dict)"
   ]
  },
  {
   "cell_type": "code",
   "execution_count": 64,
   "metadata": {},
   "outputs": [
    {
     "name": "stdout",
     "output_type": "stream",
     "text": [
      "(19962, 2) (19962,) (19962,) (19962, 2)\n"
     ]
    },
    {
     "ename": "TypeError",
     "evalue": "'NoneType' object is not subscriptable",
     "output_type": "error",
     "traceback": [
      "\u001b[1;31m---------------------------------------------------------------------------\u001b[0m",
      "\u001b[1;31mTypeError\u001b[0m                                 Traceback (most recent call last)",
      "Cell \u001b[1;32mIn[64], line 1\u001b[0m\n\u001b[1;32m----> 1\u001b[0m \u001b[43mfpred\u001b[49m\u001b[38;5;241;43m.\u001b[39;49m\u001b[43mplot_frontier\u001b[49m\u001b[43m(\u001b[49m\u001b[43mtest_dict\u001b[49m\u001b[43m)\u001b[49m\u001b[43m[\u001b[49m\u001b[38;5;241;43m0\u001b[39;49m\u001b[43m]\u001b[49m\n",
      "\u001b[1;31mTypeError\u001b[0m: 'NoneType' object is not subscriptable"
     ]
    },
    {
     "data": {
      "image/png": "[encoded data removed]",
      "text/plain": [
       "<Figure size 640x480 with 1 Axes>"
      ]
     },
     "metadata": {},
     "output_type": "display_data"
    }
   ],
   "source": [
    "fpred.plot_frontier(test_dict)"
   ]
  },
  {
   "cell_type": "code",
   "execution_count": 55,
   "metadata": {},
   "outputs": [
    {
     "name": "stdout",
     "output_type": "stream",
     "text": [
      "(19962, 2) (19962,) (19962,) (19962, 2)\n"
     ]
    },
    {
     "data": {
      "text/plain": [
       "Text(0.5, 1.0, 'Frontier Found --- Attribute: Wearing_Earrings')"
      ]
     },
     "execution_count": 55,
     "metadata": {},
     "output_type": "execute_result"
    },
    {
     "data": {
      "image/png": "[encoded data removed]",
      "text/plain": [
       "<Figure size 640x480 with 1 Axes>"
      ]
     },
     "metadata": {},
     "output_type": "display_data"
    }
   ],
   "source": [
    "fpred.plot_frontier(test_dict)\n",
    "plt.legend()\n",
    "plt.title('Frontier Found --- Attribute: ' + target_attribute)"
   ]
  },
  {
   "cell_type": "code",
   "execution_count": null,
   "metadata": {},
   "outputs": [],
   "source": [
    "fpred.plot_frontier(test_dict)\n",
    "#plt.scatter(DI_eo,DI_acc,marker='s', facecolors='black', edgecolors='black', label='Domain Independent')\n",
    "plt.legend()\n",
    "plt.title('Frontier Found --- Attribute: ' + target_attribute)\n",
    "#plt.ylim(bottom=0.9)"
   ]
  },
  {
   "cell_type": "code",
   "execution_count": 75,
   "metadata": {},
   "outputs": [
    {
     "data": {
      "text/html": [
       "<div>\n",
       "<style scoped>\n",
       "    .dataframe tbody tr th:only-of-type {\n",
       "        vertical-align: middle;\n",
       "    }\n",
       "\n",
       "    .dataframe tbody tr th {\n",
       "        vertical-align: top;\n",
       "    }\n",
       "\n",
       "    .dataframe thead th {\n",
       "        text-align: right;\n",
       "    }\n",
       "</style>\n",
       "<table border=\"1\" class=\"dataframe\">\n",
       "  <thead>\n",
       "    <tr style=\"text-align: right;\">\n",
       "      <th></th>\n",
       "      <th>original</th>\n",
       "      <th>updated</th>\n",
       "    </tr>\n",
       "  </thead>\n",
       "  <tbody>\n",
       "    <tr>\n",
       "      <th>min_acc</th>\n",
       "      <td>0.12963</td>\n",
       "      <td>0.824074</td>\n",
       "    </tr>\n",
       "    <tr>\n",
       "      <th>accuracy</th>\n",
       "      <td>0.92480</td>\n",
       "      <td>0.884633</td>\n",
       "    </tr>\n",
       "  </tbody>\n",
       "</table>\n",
       "</div>"
      ],
      "text/plain": [
       "          original   updated\n",
       "min_acc    0.12963  0.824074\n",
       "accuracy   0.92480  0.884633"
      ]
     },
     "execution_count": 75,
     "metadata": {},
     "output_type": "execute_result"
    }
   ],
   "source": [
    "fpred.evaluate(metrics={'min_acc':gm.min_accuracy.min,'accuracy':gm.accuracy})"
   ]
  },
  {
   "cell_type": "code",
   "execution_count": 74,
   "metadata": {},
   "outputs": [
    {
     "name": "stderr",
     "output_type": "stream",
     "text": [
      "Group metrics can take either one broadcast array or three broadcast array\n"
     ]
    },
    {
     "ename": "IndexError",
     "evalue": "tuple index out of range",
     "output_type": "error",
     "traceback": [
      "\u001b[1;31m---------------------------------------------------------------------------\u001b[0m",
      "\u001b[1;31mIndexError\u001b[0m                                Traceback (most recent call last)",
      "Cell \u001b[1;32mIn[74], line 1\u001b[0m\n\u001b[1;32m----> 1\u001b[0m \u001b[43mgm\u001b[49m\u001b[38;5;241;43m.\u001b[39;49m\u001b[43mmin_accuracy\u001b[49m\u001b[38;5;241;43m.\u001b[39;49m\u001b[43mmin\u001b[49m\u001b[43m(\u001b[49m\u001b[43m)\u001b[49m\n",
      "File \u001b[1;32m~\\anaconda3\\envs\\autogluon_fair\\lib\\site-packages\\oxonfair\\utils\\group_metric_classes.py:101\u001b[0m, in \u001b[0;36mGroupMin.__call__\u001b[1;34m(self, *args)\u001b[0m\n\u001b[0;32m    100\u001b[0m \u001b[38;5;28;01mdef\u001b[39;00m \u001b[38;5;21m__call__\u001b[39m(\u001b[38;5;28mself\u001b[39m, \u001b[38;5;241m*\u001b[39margs: np\u001b[38;5;241m.\u001b[39mndarray) \u001b[38;5;241m-\u001b[39m\u001b[38;5;241m>\u001b[39m np\u001b[38;5;241m.\u001b[39mndarray:\n\u001b[1;32m--> 101\u001b[0m     array \u001b[38;5;241m=\u001b[39m \u001b[38;5;28;43mself\u001b[39;49m\u001b[38;5;241;43m.\u001b[39;49m\u001b[43mbuild_array\u001b[49m\u001b[43m(\u001b[49m\u001b[43margs\u001b[49m\u001b[43m)\u001b[49m\n\u001b[0;32m    102\u001b[0m     val \u001b[38;5;241m=\u001b[39m \u001b[38;5;28mself\u001b[39m\u001b[38;5;241m.\u001b[39mfunc(\u001b[38;5;241m*\u001b[39marray)\n\u001b[0;32m    103\u001b[0m     \u001b[38;5;28;01mreturn\u001b[39;00m val\u001b[38;5;241m.\u001b[39mmin(\u001b[38;5;241m-\u001b[39m\u001b[38;5;241m1\u001b[39m)\n",
      "File \u001b[1;32m~\\anaconda3\\envs\\autogluon_fair\\lib\\site-packages\\oxonfair\\utils\\group_metric_classes.py:52\u001b[0m, in \u001b[0;36mBaseGroupMetric.build_array\u001b[1;34m(self, args)\u001b[0m\n\u001b[0;32m     50\u001b[0m \u001b[38;5;28;01mif\u001b[39;00m \u001b[38;5;28mlen\u001b[39m(args) \u001b[38;5;241m!=\u001b[39m \u001b[38;5;241m3\u001b[39m:\n\u001b[0;32m     51\u001b[0m     logger\u001b[38;5;241m.\u001b[39merror(\u001b[38;5;124m'\u001b[39m\u001b[38;5;124mGroup metrics can take either one broadcast array or three broadcast array\u001b[39m\u001b[38;5;124m'\u001b[39m)\n\u001b[1;32m---> 52\u001b[0m y_true: np\u001b[38;5;241m.\u001b[39mndarray \u001b[38;5;241m=\u001b[39m \u001b[43margs\u001b[49m\u001b[43m[\u001b[49m\u001b[38;5;241;43m0\u001b[39;49m\u001b[43m]\u001b[49m\u001b[38;5;241m.\u001b[39mastype(\u001b[38;5;28mint\u001b[39m)\n\u001b[0;32m     53\u001b[0m y_pred: np\u001b[38;5;241m.\u001b[39mndarray \u001b[38;5;241m=\u001b[39m args[\u001b[38;5;241m1\u001b[39m]\u001b[38;5;241m.\u001b[39mastype(\u001b[38;5;28mint\u001b[39m)\n\u001b[0;32m     54\u001b[0m groups: np\u001b[38;5;241m.\u001b[39mndarray \u001b[38;5;241m=\u001b[39m args[\u001b[38;5;241m2\u001b[39m]\n",
      "\u001b[1;31mIndexError\u001b[0m: tuple index out of range"
     ]
    }
   ],
   "source": [
    "gm.min_accuracy.min()"
   ]
  },
  {
   "cell_type": "code",
   "execution_count": null,
   "metadata": {},
   "outputs": [],
   "source": []
  },
  {
   "cell_type": "code",
   "execution_count": null,
   "metadata": {},
   "outputs": [],
   "source": []
  },
  {
   "cell_type": "code",
   "execution_count": 20,
   "metadata": {},
   "outputs": [],
   "source": [
    "def findSubarray(a, k): #used to find the maximum contigious subarray of length k in the explanation weight vector\n",
    "    \n",
    "    n = len(a) #the length of the array a. \n",
    "    \n",
    "    vec=[] \n",
    "\n",
    "    # Iterate to find all the sub-arrays \n",
    "    for i in range(n-k+1): \n",
    "        temp=[] \n",
    "\n",
    "        # Store the sub-array elements in the array \n",
    "        for j in range(i,i+k): \n",
    "            temp.append(a[j]) \n",
    "\n",
    "        # Push the vector in the container \n",
    "        vec.append(temp) \n",
    "\n",
    "    sum_arr = []\n",
    "    for v in vec:\n",
    "        sum_arr.append(np.sum(v)) # compute the sum of the values and store\n",
    "\n",
    "    return (vec[np.argmax(sum_arr)]) #returns the array with the maximimum sum. "
   ]
  },
  {
   "cell_type": "code",
   "execution_count": 21,
   "metadata": {},
   "outputs": [],
   "source": [
    "example = [-1,2,3.5, 4, -1, -6, 7, 4, 3, 2, 12, -1]"
   ]
  },
  {
   "cell_type": "code",
   "execution_count": 22,
   "metadata": {},
   "outputs": [
    {
     "data": {
      "text/plain": [
       "[3, 2, 12]"
      ]
     },
     "execution_count": 22,
     "metadata": {},
     "output_type": "execute_result"
    }
   ],
   "source": [
    "findSubarray(a=example, k=3)"
   ]
  }
 ],
 "metadata": {
  "kernelspec": {
   "display_name": "Python 3 (ipykernel)",
   "language": "python",
   "name": "python3"
  },
  "language_info": {
   "codemirror_mode": {
    "name": "ipython",
    "version": 3
   },
   "file_extension": ".py",
   "mimetype": "text/x-python",
   "name": "python",
   "nbconvert_exporter": "python",
   "pygments_lexer": "ipython3",
   "version": "3.8.18"
  }
 },
 "nbformat": 4,
 "nbformat_minor": 4
}

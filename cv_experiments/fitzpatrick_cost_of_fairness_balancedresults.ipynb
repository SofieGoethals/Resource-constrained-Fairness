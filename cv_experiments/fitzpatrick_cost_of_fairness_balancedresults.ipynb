{
 "cells": [
  {
   "cell_type": "markdown",
   "metadata": {},
   "source": [
    "### Enforcing Fairness in Fitzpatrick17K\n",
    "\n",
    "This code demonstrates how to enforce fairness when working with deep neural networks in computer vision. Specifically we demonstrate how different notions of fairness and performance can be measured and enforced with our toolkit.\n",
    "\n",
    "The protected attribute is Male. The user can specify what target attribute (e.g., Wearing_Earrings) that they would like to consider. "
   ]
  },
  {
   "cell_type": "code",
   "execution_count": 1,
   "metadata": {},
   "outputs": [
    {
     "name": "stdout",
     "output_type": "stream",
     "text": [
      "Collecting git+https://github.com/ChrisMRuss/oxon-fair.git\n",
      "  Cloning https://github.com/ChrisMRuss/oxon-fair.git to c:\\users\\sgoethals\\appdata\\local\\temp\\pip-req-build-yg8kzpl8\n",
      "  Resolved https://github.com/ChrisMRuss/oxon-fair.git to commit 7098c670f9ad92d6f7b9fe794fbf257c2ef6f6f9\n",
      "Requirement already satisfied: numpy>=1.21.4 in c:\\users\\sgoethals\\anaconda3\\lib\\site-packages (from oxonfair==0.1.5) (1.22.4)\n",
      "Requirement already satisfied: pandas>=1.2.5 in c:\\users\\sgoethals\\appdata\\roaming\\python\\python39\\site-packages (from oxonfair==0.1.5) (2.0.3)\n",
      "Requirement already satisfied: python-dateutil>=2.8.2 in c:\\users\\sgoethals\\anaconda3\\lib\\site-packages (from pandas>=1.2.5->oxonfair==0.1.5) (2.8.2)\n",
      "Requirement already satisfied: pytz>=2020.1 in c:\\users\\sgoethals\\anaconda3\\lib\\site-packages (from pandas>=1.2.5->oxonfair==0.1.5) (2021.3)\n",
      "Requirement already satisfied: tzdata>=2022.1 in c:\\users\\sgoethals\\anaconda3\\lib\\site-packages (from pandas>=1.2.5->oxonfair==0.1.5) (2023.3)\n",
      "Requirement already satisfied: six>=1.5 in c:\\users\\sgoethals\\anaconda3\\lib\\site-packages (from python-dateutil>=2.8.2->pandas>=1.2.5->oxonfair==0.1.5) (1.15.0)\n"
     ]
    },
    {
     "name": "stderr",
     "output_type": "stream",
     "text": [
      "WARNING: Ignoring invalid distribution -umpy (c:\\users\\sgoethals\\anaconda3\\lib\\site-packages)\n",
      "WARNING: Ignoring invalid distribution -rotobuf (c:\\users\\sgoethals\\anaconda3\\lib\\site-packages)\n",
      "WARNING: Ignoring invalid distribution - (c:\\users\\sgoethals\\anaconda3\\lib\\site-packages)\n",
      "WARNING: Ignoring invalid distribution -umpy (c:\\users\\sgoethals\\anaconda3\\lib\\site-packages)\n",
      "WARNING: Ignoring invalid distribution -rotobuf (c:\\users\\sgoethals\\anaconda3\\lib\\site-packages)\n",
      "WARNING: Ignoring invalid distribution - (c:\\users\\sgoethals\\anaconda3\\lib\\site-packages)\n",
      "  Running command git clone -q https://github.com/ChrisMRuss/oxon-fair.git 'C:\\Users\\sgoethals\\AppData\\Local\\Temp\\pip-req-build-yg8kzpl8'\n",
      "WARNING: Ignoring invalid distribution -umpy (c:\\users\\sgoethals\\anaconda3\\lib\\site-packages)\n",
      "WARNING: Ignoring invalid distribution -rotobuf (c:\\users\\sgoethals\\anaconda3\\lib\\site-packages)\n",
      "WARNING: Ignoring invalid distribution - (c:\\users\\sgoethals\\anaconda3\\lib\\site-packages)\n",
      "WARNING: Ignoring invalid distribution -umpy (c:\\users\\sgoethals\\anaconda3\\lib\\site-packages)\n",
      "WARNING: Ignoring invalid distribution -rotobuf (c:\\users\\sgoethals\\anaconda3\\lib\\site-packages)\n",
      "WARNING: Ignoring invalid distribution - (c:\\users\\sgoethals\\anaconda3\\lib\\site-packages)\n",
      "WARNING: Ignoring invalid distribution -umpy (c:\\users\\sgoethals\\anaconda3\\lib\\site-packages)\n",
      "WARNING: Ignoring invalid distribution -rotobuf (c:\\users\\sgoethals\\anaconda3\\lib\\site-packages)\n",
      "WARNING: Ignoring invalid distribution - (c:\\users\\sgoethals\\anaconda3\\lib\\site-packages)\n",
      "WARNING: Ignoring invalid distribution -umpy (c:\\users\\sgoethals\\anaconda3\\lib\\site-packages)\n",
      "WARNING: Ignoring invalid distribution -rotobuf (c:\\users\\sgoethals\\anaconda3\\lib\\site-packages)\n",
      "WARNING: Ignoring invalid distribution - (c:\\users\\sgoethals\\anaconda3\\lib\\site-packages)\n"
     ]
    }
   ],
   "source": [
    "!pip install git+https://github.com/ChrisMRuss/oxon-fair.git\n"
   ]
  },
  {
   "cell_type": "code",
   "execution_count": 18,
   "metadata": {},
   "outputs": [
    {
     "name": "stdout",
     "output_type": "stream",
     "text": [
      "Name: oxonfair"
     ]
    },
    {
     "name": "stderr",
     "output_type": "stream",
     "text": [
      "WARNING: Ignoring invalid distribution -umpy (c:\\users\\sgoethals\\anaconda3\\lib\\site-packages)\n",
      "WARNING: Ignoring invalid distribution -rotobuf (c:\\users\\sgoethals\\anaconda3\\lib\\site-packages)\n",
      "WARNING: Ignoring invalid distribution - (c:\\users\\sgoethals\\anaconda3\\lib\\site-packages)\n"
     ]
    },
    {
     "name": "stdout",
     "output_type": "stream",
     "text": [
      "\n",
      "Version: 0.1.5\n",
      "Summary: AutoML Framework for evaluating and enforcing ML model fairness\n",
      "Home-page: https://github.com/ChrisMRuss/oxon-fair/\n",
      "Author: Governance of Emerging Technologies Programme (Oxford Internet Insitute)\n",
      "Author-email: \n",
      "License: Apache-2.0\n",
      "Location: c:\\users\\sgoethals\\anaconda3\\lib\\site-packages\n",
      "Requires: numpy, pandas\n",
      "Required-by: \n"
     ]
    }
   ],
   "source": [
    "!pip show oxonfair"
   ]
  },
  {
   "cell_type": "code",
   "execution_count": 19,
   "metadata": {},
   "outputs": [],
   "source": [
    "import numpy as np \n",
    "import oxonfair\n",
    "from oxonfair.utils import group_metrics as gm\n",
    "from matplotlib import pyplot as plt"
   ]
  },
  {
   "cell_type": "code",
   "execution_count": 2,
   "metadata": {},
   "outputs": [],
   "source": [
    "fitz_outputs_val = np.load('60_20_20_1_balanced_outputs_val_fitz17k.npy')\n",
    "fitz_outputs_test = np.load('60_20_20_1_balanced_outputs_test_fitz17k.npy')\n",
    "fitz_target_labels_val = np.load('60_20_20_1_fitz17k_target_labels_val.npy')\n",
    "fitz_protected_labels_val = np.load('60_20_20_1_fitz17k_protected_labels_val.npy')\n",
    "fitz_target_labels_test = np.load('60_20_20_1_fitz17k_target_labels_test.npy')\n",
    "fitz_protected_labels_test = np.load('60_20_20_1_fitz17k_protected_labels_test.npy')"
   ]
  },
  {
   "cell_type": "code",
   "execution_count": 3,
   "metadata": {},
   "outputs": [
    {
     "data": {
      "text/plain": [
       "array([[ 0.79199237,  0.37575418],\n",
       "       [-2.51230526,  0.70082897],\n",
       "       [-4.45861387,  0.61371773],\n",
       "       ...,\n",
       "       [ 1.30813837,  0.23435649],\n",
       "       [-2.95502949,  0.38634309],\n",
       "       [-3.13313341,  0.14978038]])"
      ]
     },
     "execution_count": 3,
     "metadata": {},
     "output_type": "execute_result"
    }
   ],
   "source": [
    "np.load('60_20_20_1_balanced_outputs_val_fitz17k.npy')"
   ]
  },
  {
   "cell_type": "code",
   "execution_count": 4,
   "metadata": {},
   "outputs": [
    {
     "name": "stdout",
     "output_type": "stream",
     "text": [
      "[0.59284866 0.66837154 0.6487884  ... 0.55832243 0.59540206 0.53737525]\n",
      "[0.68825897 0.07500003 0.01144588 ... 0.78720147 0.04949934 0.04176104]\n"
     ]
    }
   ],
   "source": [
    "# Load the numpy file\n",
    "\n",
    "output_val = np.load('60_20_20_1_balanced_outputs_val_fitz17k.npy')\n",
    "output_test = np.load('60_20_20_1_balanced_outputs_test_fitz17k.npy')\n",
    "# Print the first items\n",
    "#plt.hist((output[:,target_attribute_index]), bins=100)\n",
    "\n",
    "def sigmoid(logits):\n",
    "    return 1 / (1 + np.exp(-logits))\n",
    "\n",
    "target_attribute_index=1\n",
    "prediction_scores = sigmoid(output_val[:, target_attribute_index])\n",
    "print(prediction_scores)\n",
    "prediction_scores = sigmoid(output_val[:, 0])\n",
    "print(prediction_scores)\n"
   ]
  },
  {
   "cell_type": "code",
   "execution_count": 5,
   "metadata": {},
   "outputs": [
    {
     "name": "stdout",
     "output_type": "stream",
     "text": [
      "[0.68825897 0.07500003 0.01144588 ... 0.78720147 0.04949934 0.04176104]\n"
     ]
    }
   ],
   "source": [
    "\n",
    "# target attribute index = 34 - wear earringsi\n",
    "import numpy as np\n",
    "import pandas as pd\n",
    "\n",
    "# Load the numpy file\n",
    "output_val = np.load('60_20_20_1_balanced_outputs_val_fitz17k.npy')\n",
    "output_test = np.load('60_20_20_1_balanced_outputs_test_fitz17k.npy')\n",
    "# Print the first items\n",
    "#plt.hist((output[:,target_attribute_index]), bins=100)\n",
    "\n",
    "def sigmoid(logits):\n",
    "    return 1 / (1 + np.exp(-logits))\n",
    "\n",
    "\n",
    "target_attribute_index=0 \n",
    "prediction_scores = sigmoid(output_val[:, target_attribute_index])\n",
    "print(prediction_scores)\n",
    "\n",
    "\n",
    "\n",
    "val_results, test_results=pd.DataFrame(), pd.DataFrame()\n",
    "val_results['protected']=np.load('60_20_20_1_fitz17k_protected_labels_val.npy')\n",
    "val_results['target']=np.load('60_20_20_1_fitz17k_target_labels_val.npy')\n",
    "val_results['biased_scores']=prediction_scores\n",
    "val_results['biased_label']=(prediction_scores>0.5).astype(int)\n",
    "test_results['protected']=np.load('60_20_20_1_fitz17k_protected_labels_test.npy')\n",
    "test_results['target']=np.load('60_20_20_1_fitz17k_target_labels_test.npy')\n",
    "test_results['biased_scores']=sigmoid(output_test[:, target_attribute_index])\n",
    "test_results['biased_label']=(sigmoid(output_test[:, target_attribute_index])>0.5).astype(int)"
   ]
  },
  {
   "cell_type": "markdown",
   "metadata": {},
   "source": [
    "### Enforcing Fairness"
   ]
  },
  {
   "cell_type": "code",
   "execution_count": 6,
   "metadata": {},
   "outputs": [
    {
     "name": "stdout",
     "output_type": "stream",
     "text": [
      "0.13654870028186658\n",
      "target\n",
      "0.0    0.89064\n",
      "1.0    0.10936\n",
      "Name: proportion, dtype: float64\n",
      "target\n",
      "0.0    0.850781\n",
      "1.0    0.149219\n",
      "Name: proportion, dtype: float64\n",
      "protected\n",
      "0.0    0.682117\n",
      "1.0    0.317883\n",
      "Name: proportion, dtype: float64\n",
      "The base rate disparity is 0.03985986148995553\n"
     ]
    }
   ],
   "source": [
    "good_outcome=1\n",
    "#base rate\n",
    "print(test_results.target.value_counts(normalize=True)[good_outcome])\n",
    "print(test_results[test_results.protected==True].target.value_counts(normalize=True))\n",
    "print(test_results[test_results.protected==False].target.value_counts(normalize=True))\n",
    "print(test_results.protected.value_counts(normalize=True))\n",
    "print('The base rate disparity is {}'.format(test_results[test_results.protected==False].target.value_counts(normalize=True)[good_outcome] - test_results[test_results.protected==True].target.value_counts(normalize=True)[good_outcome]))\n"
   ]
  },
  {
   "cell_type": "code",
   "execution_count": 7,
   "metadata": {},
   "outputs": [
    {
     "name": "stderr",
     "output_type": "stream",
     "text": [
      "WARNING:root:No module named 'tempeh': LawSchoolGPADataset will be unavailable. To install, run:\n",
      "pip install 'aif360[LawSchoolGPA]'\n",
      "WARNING:root:No module named 'rpy2': FairAdapt will be unavailable. To install, run:\n",
      "pip install 'aif360[FairAdapt]'\n"
     ]
    }
   ],
   "source": [
    "%run \"C:\\Users\\sgoethals\\Documents\\Research\\Project Oxford\\unfairness_fairml\\Unfair_ML\\functions\\functions_with_validation.py\""
   ]
  },
  {
   "cell_type": "code",
   "execution_count": 8,
   "metadata": {},
   "outputs": [
    {
     "name": "stdout",
     "output_type": "stream",
     "text": [
      "Calculate demographic parity\n"
     ]
    },
    {
     "name": "stderr",
     "output_type": "stream",
     "text": [
      "  0%|          | 0/100 [00:00<?, ?it/s]"
     ]
    },
    {
     "name": "stderr",
     "output_type": "stream",
     "text": [
      "100%|██████████| 100/100 [01:53<00:00,  1.14s/it]\n"
     ]
    },
    {
     "name": "stdout",
     "output_type": "stream",
     "text": [
      "Calculate equality of opportunity\n"
     ]
    },
    {
     "name": "stderr",
     "output_type": "stream",
     "text": [
      "100%|██████████| 100/100 [32:18<00:00, 19.39s/it]\n"
     ]
    },
    {
     "name": "stdout",
     "output_type": "stream",
     "text": [
      "Calculate precision\n"
     ]
    },
    {
     "name": "stderr",
     "output_type": "stream",
     "text": [
      "100%|██████████| 100/100 [00:02<00:00, 47.97it/s]\n"
     ]
    },
    {
     "name": "stdout",
     "output_type": "stream",
     "text": [
      "Calculate recall\n"
     ]
    },
    {
     "name": "stderr",
     "output_type": "stream",
     "text": [
      "100%|██████████| 100/100 [00:01<00:00, 63.83it/s]\n"
     ]
    }
   ],
   "source": [
    "test_metrics = run_all_vision(test_results, val_results, good_outcome)"
   ]
  },
  {
   "cell_type": "code",
   "execution_count": 10,
   "metadata": {},
   "outputs": [],
   "source": [
    "%run \"C:\\Users\\sgoethals\\Documents\\Research\\Project Oxford\\unfairness_fairml\\Unfair_ML\\functions\\visualisations.py\""
   ]
  },
  {
   "cell_type": "code",
   "execution_count": 14,
   "metadata": {},
   "outputs": [],
   "source": [
    "test_metrics=test_metrics[1]"
   ]
  },
  {
   "cell_type": "code",
   "execution_count": 15,
   "metadata": {},
   "outputs": [
    {
     "name": "stdout",
     "output_type": "stream",
     "text": [
      "0.03341593901593901\n",
      "0.09259256243582262\n"
     ]
    }
   ],
   "source": [
    "print(mean(test_metrics['eod_unfair']))\n",
    "print(mean(test_metrics['dd_unfair']))"
   ]
  },
  {
   "cell_type": "code",
   "execution_count": 16,
   "metadata": {},
   "outputs": [
    {
     "data": {
      "image/png": "[encoded data removed]",
      "text/plain": [
       "<Figure size 432x288 with 1 Axes>"
      ]
     },
     "metadata": {},
     "output_type": "display_data"
    }
   ],
   "source": [
    "dataset='Fitzpatrick17k'\n",
    "C_list=[i for i in np.linspace(start=1, stop=len(test_results), num=100, dtype=int)]\n",
    "\n",
    "plot_cost(test_metrics['prec_unfair'],test_metrics['prec_dp'],C_list, test_results, 'precision', 'DP', dataset, test_metrics['prec_eo'], 'EO')  "
   ]
  },
  {
   "cell_type": "code",
   "execution_count": 24,
   "metadata": {},
   "outputs": [],
   "source": [
    "#save results\n",
    "import pickle\n",
    "with open('Results/fitzpatrick/test_results.pkl', 'wb') as f:\n",
    "    pickle.dump(test_results, f)\n",
    "with open('Results/fitzpatrick/test_metrics.pkl', 'wb') as f:\n",
    "    pickle.dump(test_metrics, f)\n"
   ]
  },
  {
   "cell_type": "code",
   "execution_count": 17,
   "metadata": {},
   "outputs": [
    {
     "name": "stdout",
     "output_type": "stream",
     "text": [
      "The AUC of the biased model (validation set) is: 0.843138037568955\n",
      "The AUC of the biased model (test set) is: 0.8244501901748011\n",
      "The AUC of the biased model for the protected group (test set) is: 0.8404687873714423\n",
      "The AUC of the biased model for the privileged group (test set) is: 0.8138469841006268\n",
      "The base rate disparity is 0.029566029110240588\n",
      "The average cost of fairness (DP) is 0.000487971517233452\n",
      "The average cost of fairness (EO) is -0.002944718423794713\n"
     ]
    }
   ],
   "source": [
    "from sklearn.metrics import roc_auc_score\n",
    "print('The AUC of the biased model (validation set) is:', roc_auc_score(val_results.target,val_results.biased_scores))\n",
    "print('The AUC of the biased model (test set) is:', roc_auc_score(test_results.target,test_results.biased_scores))\n",
    "print('The AUC of the biased model for the protected group (test set) is:', roc_auc_score(test_results[test_results.protected==True].target,test_results[test_results.protected==True].biased_scores))\n",
    "print('The AUC of the biased model for the privileged group (test set) is:', roc_auc_score(test_results[test_results.protected==False].target,test_results[test_results.protected==False].biased_scores))\n",
    "print('The base rate disparity is {}'.format(val_results[val_results.protected==False].target.value_counts(normalize=True)[good_outcome] - val_results[val_results.protected==True].target.value_counts(normalize=True)[good_outcome]))\n",
    "print('The average cost of fairness (DP) is {}'.format(mean([a - b for a, b in zip(test_metrics['prec_unfair'], test_metrics['prec_dp'])])))\n",
    "print('The average cost of fairness (EO) is {}'.format(mean([a - b for a, b in zip(test_metrics['prec_unfair'], test_metrics['prec_eo'])])))"
   ]
  },
  {
   "cell_type": "markdown",
   "metadata": {},
   "source": [
    "### Fitzpatrick-17k Example"
   ]
  },
  {
   "cell_type": "code",
   "execution_count": 21,
   "metadata": {},
   "outputs": [],
   "source": [
    "fitz_outputs_val = np.load('60_20_20_1_balanced_outputs_val_fitz17k.npy')\n",
    "fitz_outputs_test = np.load('60_20_20_1_balanced_outputs_test_fitz17k.npy')\n",
    "fitz_target_labels_val = np.load('60_20_20_1_fitz17k_target_labels_val.npy')\n",
    "fitz_protected_labels_val = np.load('60_20_20_1_fitz17k_protected_labels_val.npy')\n",
    "fitz_target_labels_test = np.load('60_20_20_1_fitz17k_target_labels_test.npy')\n",
    "fitz_protected_labels_test = np.load('60_20_20_1_fitz17k_protected_labels_test.npy')"
   ]
  }
 ],
 "metadata": {
  "kernelspec": {
   "display_name": "Python 3 (ipykernel)",
   "language": "python",
   "name": "python3"
  },
  "language_info": {
   "codemirror_mode": {
    "name": "ipython",
    "version": 3
   },
   "file_extension": ".py",
   "mimetype": "text/x-python",
   "name": "python",
   "nbconvert_exporter": "python",
   "pygments_lexer": "ipython3",
   "version": "3.9.7"
  }
 },
 "nbformat": 4,
 "nbformat_minor": 4
}

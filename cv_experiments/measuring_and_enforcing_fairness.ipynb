{
 "cells": [
  {
   "cell_type": "markdown",
   "metadata": {},
   "source": [
    "### Enforcing Fairness in CelebA\n",
    "\n",
    "This code demonstrates how to enforce fairness when working with deep neural networks in computer vision. Specifically we demonstrate how different notions of fairness and performance can be measured and enforced with our toolkit.\n",
    "\n",
    "The protected attribute is Male. The user can specify what target attribute (e.g., Wearing_Earrings) that they would like to consider. "
   ]
  },
  {
   "cell_type": "code",
   "execution_count": 1,
   "metadata": {},
   "outputs": [],
   "source": [
    "import numpy as np \n",
    "import oxonfair\n",
    "from oxonfair.utils import group_metrics as gm\n",
    "from matplotlib import pyplot as plt"
   ]
  },
  {
   "cell_type": "code",
   "execution_count": 2,
   "metadata": {},
   "outputs": [],
   "source": [
    "def get_all_celeba_attributes():\n",
    "    return ['5_o_Clock_Shadow', 'Arched_Eyebrows', 'Attractive', 'Bags_Under_Eyes', 'Bald', 'Bangs', 'Big_Lips',\n",
    "            'Big_Nose', 'Black_Hair', 'Blond_Hair', 'Blurry', 'Brown_Hair', 'Bushy_Eyebrows', 'Chubby',\n",
    "            'Double_Chin', 'Eyeglasses', 'Goatee', 'Gray_Hair', 'Heavy_Makeup', 'High_Cheekbones', 'Male',\n",
    "            'Mouth_Slightly_Open', 'Mustache', 'Narrow_Eyes', 'No_Beard', 'Oval_Face', 'Pale_Skin',\n",
    "            'Pointy_Nose', 'Receding_Hairline', 'Rosy_Cheeks', 'Sideburns', 'Smiling', 'Straight_Hair',\n",
    "            'Wavy_Hair', 'Wearing_Earrings', 'Wearing_Hat', 'Wearing_Lipstick', 'Wearing_Necklace',\n",
    "            'Wearing_Necktie', 'Young']"
   ]
  },
  {
   "cell_type": "code",
   "execution_count": 3,
   "metadata": {},
   "outputs": [],
   "source": [
    "# val = np.load('prototyping_outputs_val.npy')\n",
    "# val_target = np.load('prototyping_target_label_val.npy')\n",
    "# val_groups = np.load('prototyping_protected_label_val.npy')\n",
    "\n",
    "# test = np.load('prototyping_outputs_test.npy')\n",
    "# test_target = np.load('prototyping_target_label_test.npy')\n",
    "# test_groups = np.load('prototyping_protected_label_test.npy')"
   ]
  },
  {
   "cell_type": "code",
   "execution_count": 4,
   "metadata": {},
   "outputs": [],
   "source": [
    "validation_labels = np.load('all_attributes_val_labels.npy') #loading the validation labels for all attributes\n",
    "test_labels = np.load('all_attributes_test_labels.npy') #loading the test labels for all attributes\n",
    "\n",
    "validation_outputs = np.load('All_Attributes_outputs_val.npy') # loading the corresponding outputs \n",
    "test_outputs = np.load('All_Attributes_outputs_test.npy')"
   ]
  },
  {
   "cell_type": "code",
   "execution_count": 5,
   "metadata": {},
   "outputs": [
    {
     "data": {
      "text/plain": [
       "array([[-3.72390795, -0.04863382],\n",
       "       [-6.71334314,  1.003914  ],\n",
       "       [-5.54749012,  0.01078447],\n",
       "       ...,\n",
       "       [-1.99252629, -0.03643667],\n",
       "       [ 0.69160038, -0.02428942],\n",
       "       [-4.78321409,  0.98419327]])"
      ]
     },
     "execution_count": 5,
     "metadata": {},
     "output_type": "execute_result"
    }
   ],
   "source": [
    "np.column_stack((validation_outputs[:,34], validation_outputs[:,20]))"
   ]
  },
  {
   "cell_type": "code",
   "execution_count": 6,
   "metadata": {},
   "outputs": [
    {
     "data": {
      "text/plain": [
       "(array([4.000e+00, 8.000e+00, 1.800e+01, 8.900e+01, 2.570e+02, 6.700e+02,\n",
       "        1.345e+03, 1.897e+03, 2.128e+03, 1.857e+03, 1.278e+03, 7.590e+02,\n",
       "        3.940e+02, 1.850e+02, 1.280e+02, 6.500e+01, 4.100e+01, 3.400e+01,\n",
       "        2.600e+01, 1.800e+01, 1.500e+01, 2.500e+01, 1.700e+01, 1.000e+01,\n",
       "        1.400e+01, 7.000e+00, 1.500e+01, 9.000e+00, 6.000e+00, 8.000e+00,\n",
       "        9.000e+00, 4.000e+00, 3.000e+00, 7.000e+00, 6.000e+00, 6.000e+00,\n",
       "        3.000e+00, 2.000e+00, 4.000e+00, 9.000e+00, 6.000e+00, 3.000e+00,\n",
       "        7.000e+00, 8.000e+00, 0.000e+00, 5.000e+00, 8.000e+00, 6.000e+00,\n",
       "        7.000e+00, 4.000e+00, 7.000e+00, 8.000e+00, 6.000e+00, 4.000e+00,\n",
       "        9.000e+00, 6.000e+00, 7.000e+00, 1.000e+00, 5.000e+00, 7.000e+00,\n",
       "        6.000e+00, 6.000e+00, 6.000e+00, 6.000e+00, 4.000e+00, 6.000e+00,\n",
       "        1.200e+01, 9.000e+00, 1.600e+01, 1.300e+01, 9.000e+00, 1.000e+01,\n",
       "        1.200e+01, 2.000e+01, 2.800e+01, 2.200e+01, 3.300e+01, 4.000e+01,\n",
       "        5.800e+01, 1.090e+02, 1.510e+02, 1.940e+02, 3.110e+02, 4.840e+02,\n",
       "        6.890e+02, 8.550e+02, 1.002e+03, 1.008e+03, 9.610e+02, 7.820e+02,\n",
       "        6.340e+02, 3.670e+02, 2.380e+02, 1.350e+02, 7.400e+01, 3.400e+01,\n",
       "        1.900e+01, 7.000e+00, 1.000e+00, 2.000e+00]),\n",
       " array([-1.13295622e-01, -1.00760359e-01, -8.82250966e-02, -7.56898338e-02,\n",
       "        -6.31545711e-02, -5.06193083e-02, -3.80840455e-02, -2.55487827e-02,\n",
       "        -1.30135199e-02, -4.78257164e-04,  1.20570056e-02,  2.45922684e-02,\n",
       "         3.71275312e-02,  4.96627939e-02,  6.21980567e-02,  7.47333195e-02,\n",
       "         8.72685823e-02,  9.98038451e-02,  1.12339108e-01,  1.24874371e-01,\n",
       "         1.37409633e-01,  1.49944896e-01,  1.62480159e-01,  1.75015422e-01,\n",
       "         1.87550685e-01,  2.00085947e-01,  2.12621210e-01,  2.25156473e-01,\n",
       "         2.37691736e-01,  2.50226998e-01,  2.62762261e-01,  2.75297524e-01,\n",
       "         2.87832787e-01,  3.00368050e-01,  3.12903312e-01,  3.25438575e-01,\n",
       "         3.37973838e-01,  3.50509101e-01,  3.63044363e-01,  3.75579626e-01,\n",
       "         3.88114889e-01,  4.00650152e-01,  4.13185415e-01,  4.25720677e-01,\n",
       "         4.38255940e-01,  4.50791203e-01,  4.63326466e-01,  4.75861728e-01,\n",
       "         4.88396991e-01,  5.00932254e-01,  5.13467517e-01,  5.26002780e-01,\n",
       "         5.38538042e-01,  5.51073305e-01,  5.63608568e-01,  5.76143831e-01,\n",
       "         5.88679093e-01,  6.01214356e-01,  6.13749619e-01,  6.26284882e-01,\n",
       "         6.38820145e-01,  6.51355407e-01,  6.63890670e-01,  6.76425933e-01,\n",
       "         6.88961196e-01,  7.01496458e-01,  7.14031721e-01,  7.26566984e-01,\n",
       "         7.39102247e-01,  7.51637510e-01,  7.64172772e-01,  7.76708035e-01,\n",
       "         7.89243298e-01,  8.01778561e-01,  8.14313823e-01,  8.26849086e-01,\n",
       "         8.39384349e-01,  8.51919612e-01,  8.64454875e-01,  8.76990137e-01,\n",
       "         8.89525400e-01,  9.02060663e-01,  9.14595926e-01,  9.27131188e-01,\n",
       "         9.39666451e-01,  9.52201714e-01,  9.64736977e-01,  9.77272240e-01,\n",
       "         9.89807502e-01,  1.00234277e+00,  1.01487803e+00,  1.02741329e+00,\n",
       "         1.03994855e+00,  1.05248382e+00,  1.06501908e+00,  1.07755434e+00,\n",
       "         1.09008960e+00,  1.10262487e+00,  1.11516013e+00,  1.12769539e+00,\n",
       "         1.14023066e+00]),\n",
       " <BarContainer object of 100 artists>)"
      ]
     },
     "execution_count": 6,
     "metadata": {},
     "output_type": "execute_result"
    },
    {
     "data": {
      "image/png": "[encoded data removed]",
      "text/plain": [
       "<Figure size 640x480 with 1 Axes>"
      ]
     },
     "metadata": {},
     "output_type": "display_data"
    }
   ],
   "source": [
    "plt.hist((validation_outputs[:,20]), bins=100) # just looking at the outputs from the protected head "
   ]
  },
  {
   "cell_type": "code",
   "execution_count": 7,
   "metadata": {},
   "outputs": [],
   "source": [
    "protected_attribute_index = get_all_celeba_attributes().index('Male')\n",
    "target_attribute_index = get_all_celeba_attributes().index('Wearing_Earrings')"
   ]
  },
  {
   "cell_type": "code",
   "execution_count": 8,
   "metadata": {},
   "outputs": [],
   "source": [
    "val = np.column_stack((validation_outputs[:,target_attribute_index], validation_outputs[:,20]))\n",
    "val_target = validation_labels[:,target_attribute_index]\n",
    "val_groups = validation_labels[:,protected_attribute_index]\n",
    "\n",
    "test = np.column_stack((test_outputs[:,target_attribute_index], test_outputs[:,20]))\n",
    "test_target = test_labels[:,target_attribute_index]\n",
    "test_groups = test_labels[:,protected_attribute_index]"
   ]
  },
  {
   "cell_type": "code",
   "execution_count": 9,
   "metadata": {},
   "outputs": [
    {
     "data": {
      "text/plain": [
       "Counter({1: 4125, 0: 15837})"
      ]
     },
     "execution_count": 9,
     "metadata": {},
     "output_type": "execute_result"
    }
   ],
   "source": [
    "from collections import Counter\n",
    "Counter(test_target)"
   ]
  },
  {
   "cell_type": "code",
   "execution_count": 10,
   "metadata": {},
   "outputs": [],
   "source": [
    "#Helper functions.\n",
    "#We assume that classifiers return multiple scores roughly lying in [0,1].\n",
    "#To make this happen,we push logits through a sigmoid, and for square outputs we return them, and 1- them\n",
    "def sigmoid(array):\n",
    "    return np.stack ((1/(1+np.exp(array[:,0])),1/(1+np.exp(-array[:,0]))),1)\n",
    "def square_align(array):\n",
    "    return np.stack((array[:,1],1-array[:,1]),1)"
   ]
  },
  {
   "cell_type": "code",
   "execution_count": 11,
   "metadata": {},
   "outputs": [],
   "source": [
    "val_dict={'data':val, 'target':val_target, 'groups':val_groups}\n",
    "test_dict={'data':test,'target':test_target,'groups':test_groups}"
   ]
  },
  {
   "cell_type": "markdown",
   "metadata": {},
   "source": [
    "### Enforcing Fairness"
   ]
  },
  {
   "cell_type": "code",
   "execution_count": 12,
   "metadata": {},
   "outputs": [],
   "source": [
    "#fpred=oxonfair.FairPredictor(sigmoid,val_dict,inferred_groups=square_align, use_fast=False)\n",
    "fpred = oxonfair.DeepFairPredictor(val_target,val,val_groups)"
   ]
  },
  {
   "cell_type": "code",
   "execution_count": 13,
   "metadata": {},
   "outputs": [],
   "source": [
    "#fpred.fit(gm.accuracy,gm.equal_opportunity,0.05)\n",
    "fpred.fit(gm.accuracy,gm.recall.min,0.8)\n",
    "# this can be changed to different definitions of fairness --- fpred.fit(gm.accuracy,gm.equal_opportunity,0.05)\n"
   ]
  },
  {
   "cell_type": "code",
   "execution_count": 14,
   "metadata": {},
   "outputs": [
    {
     "data": {
      "text/html": [
       "<div>\n",
       "<style scoped>\n",
       "    .dataframe tbody tr th:only-of-type {\n",
       "        vertical-align: middle;\n",
       "    }\n",
       "\n",
       "    .dataframe tbody tr th {\n",
       "        vertical-align: top;\n",
       "    }\n",
       "\n",
       "    .dataframe thead th {\n",
       "        text-align: right;\n",
       "    }\n",
       "</style>\n",
       "<table border=\"1\" class=\"dataframe\">\n",
       "  <thead>\n",
       "    <tr style=\"text-align: right;\">\n",
       "      <th></th>\n",
       "      <th>original</th>\n",
       "      <th>updated</th>\n",
       "    </tr>\n",
       "  </thead>\n",
       "  <tbody>\n",
       "    <tr>\n",
       "      <th>Accuracy</th>\n",
       "      <td>0.910380</td>\n",
       "      <td>0.889991</td>\n",
       "    </tr>\n",
       "    <tr>\n",
       "      <th>Balanced Accuracy</th>\n",
       "      <td>0.853250</td>\n",
       "      <td>0.858418</td>\n",
       "    </tr>\n",
       "    <tr>\n",
       "      <th>F1 score</th>\n",
       "      <td>0.777072</td>\n",
       "      <td>0.751415</td>\n",
       "    </tr>\n",
       "    <tr>\n",
       "      <th>MCC</th>\n",
       "      <td>0.721488</td>\n",
       "      <td>0.683639</td>\n",
       "    </tr>\n",
       "    <tr>\n",
       "      <th>Precision</th>\n",
       "      <td>0.799487</td>\n",
       "      <td>0.704821</td>\n",
       "    </tr>\n",
       "    <tr>\n",
       "      <th>Recall</th>\n",
       "      <td>0.755879</td>\n",
       "      <td>0.804606</td>\n",
       "    </tr>\n",
       "    <tr>\n",
       "      <th>ROC AUC</th>\n",
       "      <td>0.956715</td>\n",
       "      <td>0.941155</td>\n",
       "    </tr>\n",
       "  </tbody>\n",
       "</table>\n",
       "</div>"
      ],
      "text/plain": [
       "                   original   updated\n",
       "Accuracy           0.910380  0.889991\n",
       "Balanced Accuracy  0.853250  0.858418\n",
       "F1 score           0.777072  0.751415\n",
       "MCC                0.721488  0.683639\n",
       "Precision          0.799487  0.704821\n",
       "Recall             0.755879  0.804606\n",
       "ROC AUC            0.956715  0.941155"
      ]
     },
     "execution_count": 14,
     "metadata": {},
     "output_type": "execute_result"
    }
   ],
   "source": [
    "fpred.evaluate(test_dict)"
   ]
  },
  {
   "cell_type": "code",
   "execution_count": 15,
   "metadata": {},
   "outputs": [
    {
     "data": {
      "text/html": [
       "<div>\n",
       "<style scoped>\n",
       "    .dataframe tbody tr th:only-of-type {\n",
       "        vertical-align: middle;\n",
       "    }\n",
       "\n",
       "    .dataframe tbody tr th {\n",
       "        vertical-align: top;\n",
       "    }\n",
       "\n",
       "    .dataframe thead th {\n",
       "        text-align: right;\n",
       "    }\n",
       "</style>\n",
       "<table border=\"1\" class=\"dataframe\">\n",
       "  <thead>\n",
       "    <tr style=\"text-align: right;\">\n",
       "      <th></th>\n",
       "      <th></th>\n",
       "      <th>Accuracy</th>\n",
       "      <th>Balanced Accuracy</th>\n",
       "      <th>F1 score</th>\n",
       "      <th>MCC</th>\n",
       "      <th>Precision</th>\n",
       "      <th>Recall</th>\n",
       "      <th>ROC AUC</th>\n",
       "      <th>Number of Datapoints</th>\n",
       "      <th>Positive Count</th>\n",
       "      <th>Negative Count</th>\n",
       "      <th>Positive Label Rate</th>\n",
       "      <th>Positive Prediction Rate</th>\n",
       "    </tr>\n",
       "    <tr>\n",
       "      <th></th>\n",
       "      <th>Groups</th>\n",
       "      <th></th>\n",
       "      <th></th>\n",
       "      <th></th>\n",
       "      <th></th>\n",
       "      <th></th>\n",
       "      <th></th>\n",
       "      <th></th>\n",
       "      <th></th>\n",
       "      <th></th>\n",
       "      <th></th>\n",
       "      <th></th>\n",
       "      <th></th>\n",
       "    </tr>\n",
       "  </thead>\n",
       "  <tbody>\n",
       "    <tr>\n",
       "      <th rowspan=\"4\" valign=\"top\">original</th>\n",
       "      <th>Overall</th>\n",
       "      <td>0.924800</td>\n",
       "      <td>0.861855</td>\n",
       "      <td>0.794045</td>\n",
       "      <td>0.749278</td>\n",
       "      <td>0.831169</td>\n",
       "      <td>0.760095</td>\n",
       "      <td>0.965498</td>\n",
       "      <td>19867.0</td>\n",
       "      <td>3789.0</td>\n",
       "      <td>16078.0</td>\n",
       "      <td>0.190718</td>\n",
       "      <td>0.174410</td>\n",
       "    </tr>\n",
       "    <tr>\n",
       "      <th>0</th>\n",
       "      <td>0.878429</td>\n",
       "      <td>0.852288</td>\n",
       "      <td>0.805169</td>\n",
       "      <td>0.717852</td>\n",
       "      <td>0.833624</td>\n",
       "      <td>0.778593</td>\n",
       "      <td>0.940365</td>\n",
       "      <td>11409.0</td>\n",
       "      <td>3681.0</td>\n",
       "      <td>7728.0</td>\n",
       "      <td>0.322640</td>\n",
       "      <td>0.301341</td>\n",
       "    </tr>\n",
       "    <tr>\n",
       "      <th>1</th>\n",
       "      <td>0.987349</td>\n",
       "      <td>0.564036</td>\n",
       "      <td>0.207407</td>\n",
       "      <td>0.254912</td>\n",
       "      <td>0.518519</td>\n",
       "      <td>0.129630</td>\n",
       "      <td>0.960154</td>\n",
       "      <td>8458.0</td>\n",
       "      <td>108.0</td>\n",
       "      <td>8350.0</td>\n",
       "      <td>0.012769</td>\n",
       "      <td>0.003192</td>\n",
       "    </tr>\n",
       "    <tr>\n",
       "      <th>Maximum difference</th>\n",
       "      <td>0.108920</td>\n",
       "      <td>0.288252</td>\n",
       "      <td>0.597762</td>\n",
       "      <td>0.462940</td>\n",
       "      <td>0.315106</td>\n",
       "      <td>0.648963</td>\n",
       "      <td>0.019789</td>\n",
       "      <td>2951.0</td>\n",
       "      <td>3573.0</td>\n",
       "      <td>622.0</td>\n",
       "      <td>0.309871</td>\n",
       "      <td>0.298149</td>\n",
       "    </tr>\n",
       "    <tr>\n",
       "      <th rowspan=\"4\" valign=\"top\">updated</th>\n",
       "      <th>Overall</th>\n",
       "      <td>0.907082</td>\n",
       "      <td>0.868156</td>\n",
       "      <td>0.767740</td>\n",
       "      <td>0.711025</td>\n",
       "      <td>0.733590</td>\n",
       "      <td>0.805226</td>\n",
       "      <td>0.948592</td>\n",
       "      <td>19867.0</td>\n",
       "      <td>3789.0</td>\n",
       "      <td>16078.0</td>\n",
       "      <td>0.190718</td>\n",
       "      <td>0.209342</td>\n",
       "    </tr>\n",
       "    <tr>\n",
       "      <th>0</th>\n",
       "      <td>0.877991</td>\n",
       "      <td>0.858793</td>\n",
       "      <td>0.809732</td>\n",
       "      <td>0.719973</td>\n",
       "      <td>0.814856</td>\n",
       "      <td>0.804673</td>\n",
       "      <td>0.940317</td>\n",
       "      <td>11409.0</td>\n",
       "      <td>3681.0</td>\n",
       "      <td>7728.0</td>\n",
       "      <td>0.322640</td>\n",
       "      <td>0.318608</td>\n",
       "    </tr>\n",
       "    <tr>\n",
       "      <th>1</th>\n",
       "      <td>0.946323</td>\n",
       "      <td>0.885989</td>\n",
       "      <td>0.281646</td>\n",
       "      <td>0.359541</td>\n",
       "      <td>0.169847</td>\n",
       "      <td>0.824074</td>\n",
       "      <td>0.961775</td>\n",
       "      <td>8458.0</td>\n",
       "      <td>108.0</td>\n",
       "      <td>8350.0</td>\n",
       "      <td>0.012769</td>\n",
       "      <td>0.061953</td>\n",
       "    </tr>\n",
       "    <tr>\n",
       "      <th>Maximum difference</th>\n",
       "      <td>0.068332</td>\n",
       "      <td>0.027196</td>\n",
       "      <td>0.528087</td>\n",
       "      <td>0.360432</td>\n",
       "      <td>0.645008</td>\n",
       "      <td>0.019401</td>\n",
       "      <td>0.021458</td>\n",
       "      <td>2951.0</td>\n",
       "      <td>3573.0</td>\n",
       "      <td>622.0</td>\n",
       "      <td>0.309871</td>\n",
       "      <td>0.256655</td>\n",
       "    </tr>\n",
       "  </tbody>\n",
       "</table>\n",
       "</div>"
      ],
      "text/plain": [
       "                             Accuracy  Balanced Accuracy  F1 score       MCC  \\\n",
       "         Groups                                                                \n",
       "original Overall             0.924800           0.861855  0.794045  0.749278   \n",
       "         0                   0.878429           0.852288  0.805169  0.717852   \n",
       "         1                   0.987349           0.564036  0.207407  0.254912   \n",
       "         Maximum difference  0.108920           0.288252  0.597762  0.462940   \n",
       "updated  Overall             0.907082           0.868156  0.767740  0.711025   \n",
       "         0                   0.877991           0.858793  0.809732  0.719973   \n",
       "         1                   0.946323           0.885989  0.281646  0.359541   \n",
       "         Maximum difference  0.068332           0.027196  0.528087  0.360432   \n",
       "\n",
       "                             Precision    Recall   ROC AUC  \\\n",
       "         Groups                                              \n",
       "original Overall              0.831169  0.760095  0.965498   \n",
       "         0                    0.833624  0.778593  0.940365   \n",
       "         1                    0.518519  0.129630  0.960154   \n",
       "         Maximum difference   0.315106  0.648963  0.019789   \n",
       "updated  Overall              0.733590  0.805226  0.948592   \n",
       "         0                    0.814856  0.804673  0.940317   \n",
       "         1                    0.169847  0.824074  0.961775   \n",
       "         Maximum difference   0.645008  0.019401  0.021458   \n",
       "\n",
       "                             Number of Datapoints  Positive Count  \\\n",
       "         Groups                                                     \n",
       "original Overall                          19867.0          3789.0   \n",
       "         0                                11409.0          3681.0   \n",
       "         1                                 8458.0           108.0   \n",
       "         Maximum difference                2951.0          3573.0   \n",
       "updated  Overall                          19867.0          3789.0   \n",
       "         0                                11409.0          3681.0   \n",
       "         1                                 8458.0           108.0   \n",
       "         Maximum difference                2951.0          3573.0   \n",
       "\n",
       "                             Negative Count  Positive Label Rate  \\\n",
       "         Groups                                                    \n",
       "original Overall                    16078.0             0.190718   \n",
       "         0                           7728.0             0.322640   \n",
       "         1                           8350.0             0.012769   \n",
       "         Maximum difference           622.0             0.309871   \n",
       "updated  Overall                    16078.0             0.190718   \n",
       "         0                           7728.0             0.322640   \n",
       "         1                           8350.0             0.012769   \n",
       "         Maximum difference           622.0             0.309871   \n",
       "\n",
       "                             Positive Prediction Rate  \n",
       "         Groups                                        \n",
       "original Overall                             0.174410  \n",
       "         0                                   0.301341  \n",
       "         1                                   0.003192  \n",
       "         Maximum difference                  0.298149  \n",
       "updated  Overall                             0.209342  \n",
       "         0                                   0.318608  \n",
       "         1                                   0.061953  \n",
       "         Maximum difference                  0.256655  "
      ]
     },
     "execution_count": 15,
     "metadata": {},
     "output_type": "execute_result"
    }
   ],
   "source": [
    "fpred.evaluate_groups(return_original=True) #on val"
   ]
  },
  {
   "cell_type": "code",
   "execution_count": 16,
   "metadata": {},
   "outputs": [
    {
     "data": {
      "text/html": [
       "<div>\n",
       "<style scoped>\n",
       "    .dataframe tbody tr th:only-of-type {\n",
       "        vertical-align: middle;\n",
       "    }\n",
       "\n",
       "    .dataframe tbody tr th {\n",
       "        vertical-align: top;\n",
       "    }\n",
       "\n",
       "    .dataframe thead th {\n",
       "        text-align: right;\n",
       "    }\n",
       "</style>\n",
       "<table border=\"1\" class=\"dataframe\">\n",
       "  <thead>\n",
       "    <tr style=\"text-align: right;\">\n",
       "      <th></th>\n",
       "      <th></th>\n",
       "      <th>Accuracy</th>\n",
       "      <th>Balanced Accuracy</th>\n",
       "      <th>F1 score</th>\n",
       "      <th>MCC</th>\n",
       "      <th>Precision</th>\n",
       "      <th>Recall</th>\n",
       "      <th>ROC AUC</th>\n",
       "      <th>Number of Datapoints</th>\n",
       "      <th>Positive Count</th>\n",
       "      <th>Negative Count</th>\n",
       "      <th>Positive Label Rate</th>\n",
       "      <th>Positive Prediction Rate</th>\n",
       "    </tr>\n",
       "    <tr>\n",
       "      <th></th>\n",
       "      <th>Groups</th>\n",
       "      <th></th>\n",
       "      <th></th>\n",
       "      <th></th>\n",
       "      <th></th>\n",
       "      <th></th>\n",
       "      <th></th>\n",
       "      <th></th>\n",
       "      <th></th>\n",
       "      <th></th>\n",
       "      <th></th>\n",
       "      <th></th>\n",
       "      <th></th>\n",
       "    </tr>\n",
       "  </thead>\n",
       "  <tbody>\n",
       "    <tr>\n",
       "      <th rowspan=\"4\" valign=\"top\">original</th>\n",
       "      <th>Overall</th>\n",
       "      <td>0.910380</td>\n",
       "      <td>0.853250</td>\n",
       "      <td>0.777072</td>\n",
       "      <td>0.721488</td>\n",
       "      <td>0.799487</td>\n",
       "      <td>0.755879</td>\n",
       "      <td>0.956715</td>\n",
       "      <td>19962.0</td>\n",
       "      <td>4125.0</td>\n",
       "      <td>15837.0</td>\n",
       "      <td>0.206643</td>\n",
       "      <td>0.195371</td>\n",
       "    </tr>\n",
       "    <tr>\n",
       "      <th>0</th>\n",
       "      <td>0.866498</td>\n",
       "      <td>0.843349</td>\n",
       "      <td>0.789657</td>\n",
       "      <td>0.692062</td>\n",
       "      <td>0.801305</td>\n",
       "      <td>0.778341</td>\n",
       "      <td>0.931490</td>\n",
       "      <td>12247.0</td>\n",
       "      <td>3943.0</td>\n",
       "      <td>8304.0</td>\n",
       "      <td>0.321956</td>\n",
       "      <td>0.312730</td>\n",
       "    </tr>\n",
       "    <tr>\n",
       "      <th>1</th>\n",
       "      <td>0.980039</td>\n",
       "      <td>0.633222</td>\n",
       "      <td>0.388889</td>\n",
       "      <td>0.426468</td>\n",
       "      <td>0.700000</td>\n",
       "      <td>0.269231</td>\n",
       "      <td>0.969253</td>\n",
       "      <td>7715.0</td>\n",
       "      <td>182.0</td>\n",
       "      <td>7533.0</td>\n",
       "      <td>0.023590</td>\n",
       "      <td>0.009073</td>\n",
       "    </tr>\n",
       "    <tr>\n",
       "      <th>Maximum difference</th>\n",
       "      <td>0.113541</td>\n",
       "      <td>0.210128</td>\n",
       "      <td>0.400768</td>\n",
       "      <td>0.265595</td>\n",
       "      <td>0.101305</td>\n",
       "      <td>0.509111</td>\n",
       "      <td>0.037764</td>\n",
       "      <td>4532.0</td>\n",
       "      <td>3761.0</td>\n",
       "      <td>771.0</td>\n",
       "      <td>0.298366</td>\n",
       "      <td>0.303656</td>\n",
       "    </tr>\n",
       "    <tr>\n",
       "      <th rowspan=\"4\" valign=\"top\">updated</th>\n",
       "      <th>Overall</th>\n",
       "      <td>0.889991</td>\n",
       "      <td>0.858418</td>\n",
       "      <td>0.751415</td>\n",
       "      <td>0.683639</td>\n",
       "      <td>0.704821</td>\n",
       "      <td>0.804606</td>\n",
       "      <td>0.941155</td>\n",
       "      <td>19962.0</td>\n",
       "      <td>4125.0</td>\n",
       "      <td>15837.0</td>\n",
       "      <td>0.206643</td>\n",
       "      <td>0.235898</td>\n",
       "    </tr>\n",
       "    <tr>\n",
       "      <th>0</th>\n",
       "      <td>0.865436</td>\n",
       "      <td>0.848627</td>\n",
       "      <td>0.793173</td>\n",
       "      <td>0.693547</td>\n",
       "      <td>0.785093</td>\n",
       "      <td>0.801420</td>\n",
       "      <td>0.931017</td>\n",
       "      <td>12247.0</td>\n",
       "      <td>3943.0</td>\n",
       "      <td>8304.0</td>\n",
       "      <td>0.321956</td>\n",
       "      <td>0.328652</td>\n",
       "    </tr>\n",
       "    <tr>\n",
       "      <th>1</th>\n",
       "      <td>0.928970</td>\n",
       "      <td>0.901967</td>\n",
       "      <td>0.367206</td>\n",
       "      <td>0.429243</td>\n",
       "      <td>0.232456</td>\n",
       "      <td>0.873626</td>\n",
       "      <td>0.967224</td>\n",
       "      <td>7715.0</td>\n",
       "      <td>182.0</td>\n",
       "      <td>7533.0</td>\n",
       "      <td>0.023590</td>\n",
       "      <td>0.088658</td>\n",
       "    </tr>\n",
       "    <tr>\n",
       "      <th>Maximum difference</th>\n",
       "      <td>0.063533</td>\n",
       "      <td>0.053340</td>\n",
       "      <td>0.425967</td>\n",
       "      <td>0.264305</td>\n",
       "      <td>0.552637</td>\n",
       "      <td>0.072206</td>\n",
       "      <td>0.036207</td>\n",
       "      <td>4532.0</td>\n",
       "      <td>3761.0</td>\n",
       "      <td>771.0</td>\n",
       "      <td>0.298366</td>\n",
       "      <td>0.239993</td>\n",
       "    </tr>\n",
       "  </tbody>\n",
       "</table>\n",
       "</div>"
      ],
      "text/plain": [
       "                             Accuracy  Balanced Accuracy  F1 score       MCC  \\\n",
       "         Groups                                                                \n",
       "original Overall             0.910380           0.853250  0.777072  0.721488   \n",
       "         0                   0.866498           0.843349  0.789657  0.692062   \n",
       "         1                   0.980039           0.633222  0.388889  0.426468   \n",
       "         Maximum difference  0.113541           0.210128  0.400768  0.265595   \n",
       "updated  Overall             0.889991           0.858418  0.751415  0.683639   \n",
       "         0                   0.865436           0.848627  0.793173  0.693547   \n",
       "         1                   0.928970           0.901967  0.367206  0.429243   \n",
       "         Maximum difference  0.063533           0.053340  0.425967  0.264305   \n",
       "\n",
       "                             Precision    Recall   ROC AUC  \\\n",
       "         Groups                                              \n",
       "original Overall              0.799487  0.755879  0.956715   \n",
       "         0                    0.801305  0.778341  0.931490   \n",
       "         1                    0.700000  0.269231  0.969253   \n",
       "         Maximum difference   0.101305  0.509111  0.037764   \n",
       "updated  Overall              0.704821  0.804606  0.941155   \n",
       "         0                    0.785093  0.801420  0.931017   \n",
       "         1                    0.232456  0.873626  0.967224   \n",
       "         Maximum difference   0.552637  0.072206  0.036207   \n",
       "\n",
       "                             Number of Datapoints  Positive Count  \\\n",
       "         Groups                                                     \n",
       "original Overall                          19962.0          4125.0   \n",
       "         0                                12247.0          3943.0   \n",
       "         1                                 7715.0           182.0   \n",
       "         Maximum difference                4532.0          3761.0   \n",
       "updated  Overall                          19962.0          4125.0   \n",
       "         0                                12247.0          3943.0   \n",
       "         1                                 7715.0           182.0   \n",
       "         Maximum difference                4532.0          3761.0   \n",
       "\n",
       "                             Negative Count  Positive Label Rate  \\\n",
       "         Groups                                                    \n",
       "original Overall                    15837.0             0.206643   \n",
       "         0                           8304.0             0.321956   \n",
       "         1                           7533.0             0.023590   \n",
       "         Maximum difference           771.0             0.298366   \n",
       "updated  Overall                    15837.0             0.206643   \n",
       "         0                           8304.0             0.321956   \n",
       "         1                           7533.0             0.023590   \n",
       "         Maximum difference           771.0             0.298366   \n",
       "\n",
       "                             Positive Prediction Rate  \n",
       "         Groups                                        \n",
       "original Overall                             0.195371  \n",
       "         0                                   0.312730  \n",
       "         1                                   0.009073  \n",
       "         Maximum difference                  0.303656  \n",
       "updated  Overall                             0.235898  \n",
       "         0                                   0.328652  \n",
       "         1                                   0.088658  \n",
       "         Maximum difference                  0.239993  "
      ]
     },
     "execution_count": 16,
     "metadata": {},
     "output_type": "execute_result"
    }
   ],
   "source": [
    "fpred.evaluate_groups(test_dict,return_original=True) #on the test set"
   ]
  },
  {
   "cell_type": "code",
   "execution_count": 17,
   "metadata": {
    "editable": true,
    "slideshow": {
     "slide_type": ""
    },
    "tags": []
   },
   "outputs": [
    {
     "data": {
      "image/png": "[encoded data removed]",
      "text/plain": [
       "<Figure size 640x480 with 1 Axes>"
      ]
     },
     "metadata": {},
     "output_type": "display_data"
    }
   ],
   "source": [
    "figure = fpred.plot_frontier() #looking at the frontier on the validation set"
   ]
  },
  {
   "cell_type": "code",
   "execution_count": 18,
   "metadata": {},
   "outputs": [
    {
     "data": {
      "image/png": "[encoded data removed]",
      "text/plain": [
       "<Figure size 640x480 with 1 Axes>"
      ]
     },
     "metadata": {},
     "output_type": "display_data"
    }
   ],
   "source": [
    "fpred.plot_frontier(test_dict) # viewing performance on the test set. "
   ]
  },
  {
   "cell_type": "code",
   "execution_count": 19,
   "metadata": {},
   "outputs": [
    {
     "data": {
      "text/html": [
       "<div>\n",
       "<style scoped>\n",
       "    .dataframe tbody tr th:only-of-type {\n",
       "        vertical-align: middle;\n",
       "    }\n",
       "\n",
       "    .dataframe tbody tr th {\n",
       "        vertical-align: top;\n",
       "    }\n",
       "\n",
       "    .dataframe thead th {\n",
       "        text-align: right;\n",
       "    }\n",
       "</style>\n",
       "<table border=\"1\" class=\"dataframe\">\n",
       "  <thead>\n",
       "    <tr style=\"text-align: right;\">\n",
       "      <th></th>\n",
       "      <th>original</th>\n",
       "      <th>updated</th>\n",
       "    </tr>\n",
       "  </thead>\n",
       "  <tbody>\n",
       "    <tr>\n",
       "      <th>Class Imbalance</th>\n",
       "      <td>0.298366</td>\n",
       "      <td>0.298366</td>\n",
       "    </tr>\n",
       "    <tr>\n",
       "      <th>Demographic Parity</th>\n",
       "      <td>0.303656</td>\n",
       "      <td>0.239993</td>\n",
       "    </tr>\n",
       "    <tr>\n",
       "      <th>Disparate Impact</th>\n",
       "      <td>0.029013</td>\n",
       "      <td>0.269764</td>\n",
       "    </tr>\n",
       "    <tr>\n",
       "      <th>Maximal Group Difference in Accuracy</th>\n",
       "      <td>0.113541</td>\n",
       "      <td>0.063533</td>\n",
       "    </tr>\n",
       "    <tr>\n",
       "      <th>Maximal Group Difference in Recall</th>\n",
       "      <td>0.509111</td>\n",
       "      <td>0.072206</td>\n",
       "    </tr>\n",
       "    <tr>\n",
       "      <th>Maximal Group Difference in Conditional Acceptance Rate</th>\n",
       "      <td>1.570496</td>\n",
       "      <td>0.713545</td>\n",
       "    </tr>\n",
       "    <tr>\n",
       "      <th>Maximal Group Difference in Acceptance Rate</th>\n",
       "      <td>0.101305</td>\n",
       "      <td>0.552637</td>\n",
       "    </tr>\n",
       "    <tr>\n",
       "      <th>Maximal Group Difference in Specificity</th>\n",
       "      <td>0.088855</td>\n",
       "      <td>0.034473</td>\n",
       "    </tr>\n",
       "    <tr>\n",
       "      <th>Maximal Group Difference in Conditional Rejectance Rate</th>\n",
       "      <td>0.001225</td>\n",
       "      <td>0.061425</td>\n",
       "    </tr>\n",
       "    <tr>\n",
       "      <th>Maximal Group Difference in Rejection Rate</th>\n",
       "      <td>0.086440</td>\n",
       "      <td>0.091961</td>\n",
       "    </tr>\n",
       "    <tr>\n",
       "      <th>Treatment Equality</th>\n",
       "      <td>0.712815</td>\n",
       "      <td>21.721362</td>\n",
       "    </tr>\n",
       "    <tr>\n",
       "      <th>Generalized Entropy</th>\n",
       "      <td>0.045773</td>\n",
       "      <td>0.051518</td>\n",
       "    </tr>\n",
       "  </tbody>\n",
       "</table>\n",
       "</div>"
      ],
      "text/plain": [
       "                                                    original    updated\n",
       "Class Imbalance                                     0.298366   0.298366\n",
       "Demographic Parity                                  0.303656   0.239993\n",
       "Disparate Impact                                    0.029013   0.269764\n",
       "Maximal Group Difference in Accuracy                0.113541   0.063533\n",
       "Maximal Group Difference in Recall                  0.509111   0.072206\n",
       "Maximal Group Difference in Conditional Accepta...  1.570496   0.713545\n",
       "Maximal Group Difference in Acceptance Rate         0.101305   0.552637\n",
       "Maximal Group Difference in Specificity             0.088855   0.034473\n",
       "Maximal Group Difference in Conditional Rejecta...  0.001225   0.061425\n",
       "Maximal Group Difference in Rejection Rate          0.086440   0.091961\n",
       "Treatment Equality                                  0.712815  21.721362\n",
       "Generalized Entropy                                 0.045773   0.051518"
      ]
     },
     "execution_count": 19,
     "metadata": {},
     "output_type": "execute_result"
    }
   ],
   "source": [
    "fpred.evaluate_fairness(test_dict)"
   ]
  },
  {
   "cell_type": "code",
   "execution_count": 20,
   "metadata": {},
   "outputs": [
    {
     "data": {
      "text/html": [
       "<div>\n",
       "<style scoped>\n",
       "    .dataframe tbody tr th:only-of-type {\n",
       "        vertical-align: middle;\n",
       "    }\n",
       "\n",
       "    .dataframe tbody tr th {\n",
       "        vertical-align: top;\n",
       "    }\n",
       "\n",
       "    .dataframe thead th {\n",
       "        text-align: right;\n",
       "    }\n",
       "</style>\n",
       "<table border=\"1\" class=\"dataframe\">\n",
       "  <thead>\n",
       "    <tr style=\"text-align: right;\">\n",
       "      <th></th>\n",
       "      <th>original</th>\n",
       "      <th>updated</th>\n",
       "    </tr>\n",
       "  </thead>\n",
       "  <tbody>\n",
       "    <tr>\n",
       "      <th>Accuracy</th>\n",
       "      <td>0.910380</td>\n",
       "      <td>0.889991</td>\n",
       "    </tr>\n",
       "    <tr>\n",
       "      <th>Balanced Accuracy</th>\n",
       "      <td>0.853250</td>\n",
       "      <td>0.858418</td>\n",
       "    </tr>\n",
       "    <tr>\n",
       "      <th>F1 score</th>\n",
       "      <td>0.777072</td>\n",
       "      <td>0.751415</td>\n",
       "    </tr>\n",
       "    <tr>\n",
       "      <th>MCC</th>\n",
       "      <td>0.721488</td>\n",
       "      <td>0.683639</td>\n",
       "    </tr>\n",
       "    <tr>\n",
       "      <th>Precision</th>\n",
       "      <td>0.799487</td>\n",
       "      <td>0.704821</td>\n",
       "    </tr>\n",
       "    <tr>\n",
       "      <th>Recall</th>\n",
       "      <td>0.755879</td>\n",
       "      <td>0.804606</td>\n",
       "    </tr>\n",
       "    <tr>\n",
       "      <th>ROC AUC</th>\n",
       "      <td>0.956715</td>\n",
       "      <td>0.941155</td>\n",
       "    </tr>\n",
       "  </tbody>\n",
       "</table>\n",
       "</div>"
      ],
      "text/plain": [
       "                   original   updated\n",
       "Accuracy           0.910380  0.889991\n",
       "Balanced Accuracy  0.853250  0.858418\n",
       "F1 score           0.777072  0.751415\n",
       "MCC                0.721488  0.683639\n",
       "Precision          0.799487  0.704821\n",
       "Recall             0.755879  0.804606\n",
       "ROC AUC            0.956715  0.941155"
      ]
     },
     "execution_count": 20,
     "metadata": {},
     "output_type": "execute_result"
    }
   ],
   "source": [
    "fpred.evaluate(test_dict)"
   ]
  },
  {
   "cell_type": "code",
   "execution_count": null,
   "metadata": {},
   "outputs": [],
   "source": []
  },
  {
   "cell_type": "code",
   "execution_count": null,
   "metadata": {},
   "outputs": [],
   "source": []
  },
  {
   "cell_type": "markdown",
   "metadata": {},
   "source": [
    "### Fitzpatrick-17k Example"
   ]
  },
  {
   "cell_type": "code",
   "execution_count": 21,
   "metadata": {},
   "outputs": [],
   "source": [
    "fitz_outputs_val = np.load('60_20_20_1_balanced_outputs_val_fitz17k.npy')\n",
    "fitz_outputs_test = np.load('60_20_20_1_balanced_outputs_test_fitz17k.npy')\n",
    "fitz_target_labels_val = np.load('60_20_20_1_fitz17k_target_labels_val.npy')\n",
    "fitz_protected_labels_val = np.load('60_20_20_1_fitz17k_protected_labels_val.npy')\n",
    "fitz_target_labels_test = np.load('60_20_20_1_fitz17k_target_labels_test.npy')\n",
    "fitz_protected_labels_test = np.load('60_20_20_1_fitz17k_protected_labels_test.npy')"
   ]
  },
  {
   "cell_type": "code",
   "execution_count": 22,
   "metadata": {},
   "outputs": [],
   "source": [
    "val_dict_fitz={'data':fitz_outputs_val, 'target':fitz_target_labels_val, 'groups':fitz_protected_labels_val}\n",
    "test_dict_fitz={'data':fitz_outputs_test,'target':fitz_target_labels_test,'groups':fitz_protected_labels_test}"
   ]
  },
  {
   "cell_type": "code",
   "execution_count": 23,
   "metadata": {},
   "outputs": [],
   "source": [
    "fpred_fitz = oxonfair.DeepFairPredictor(fitz_target_labels_val,fitz_outputs_val,fitz_protected_labels_val)\n"
   ]
  },
  {
   "cell_type": "code",
   "execution_count": 24,
   "metadata": {},
   "outputs": [],
   "source": [
    "fpred_fitz.fit(gm.accuracy,gm.recall.min,0.7)"
   ]
  },
  {
   "cell_type": "code",
   "execution_count": 25,
   "metadata": {},
   "outputs": [
    {
     "data": {
      "image/png": "[encoded data removed]",
      "text/plain": [
       "<Figure size 640x480 with 1 Axes>"
      ]
     },
     "metadata": {},
     "output_type": "display_data"
    }
   ],
   "source": [
    "fpred_fitz.plot_frontier() #looking at the frontier on the validation set"
   ]
  },
  {
   "cell_type": "code",
   "execution_count": 26,
   "metadata": {},
   "outputs": [
    {
     "data": {
      "image/png": "[encoded data removed]",
      "text/plain": [
       "<Figure size 640x480 with 1 Axes>"
      ]
     },
     "metadata": {},
     "output_type": "display_data"
    }
   ],
   "source": [
    "fpred_fitz.plot_frontier(test_dict_fitz) #looking at the frontier on the validation set"
   ]
  },
  {
   "cell_type": "code",
   "execution_count": null,
   "metadata": {},
   "outputs": [],
   "source": []
  }
 ],
 "metadata": {
  "kernelspec": {
   "display_name": "Python 3 (ipykernel)",
   "language": "python",
   "name": "python3"
  },
  "language_info": {
   "codemirror_mode": {
    "name": "ipython",
    "version": 3
   },
   "file_extension": ".py",
   "mimetype": "text/x-python",
   "name": "python",
   "nbconvert_exporter": "python",
   "pygments_lexer": "ipython3",
   "version": "3.8.18"
  }
 },
 "nbformat": 4,
 "nbformat_minor": 4
}

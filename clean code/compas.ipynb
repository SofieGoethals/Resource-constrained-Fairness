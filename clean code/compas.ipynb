{
 "cells": [
  {
   "cell_type": "code",
   "execution_count": 70,
   "metadata": {},
   "outputs": [],
   "source": [
    "import pandas as pd\n",
    "from statistics import mean\n",
    "import matplotlib.pyplot as plt\n",
    "%matplotlib inline\n",
    "from pmlb import fetch_data\n",
    "from statistics import mean"
   ]
  },
  {
   "cell_type": "code",
   "execution_count": 71,
   "metadata": {},
   "outputs": [],
   "source": [
    "df = pd.read_csv(r'C:\\Users\\sgoethals\\Dropbox\\PC (2)\\Documents\\Research\\Project Oxford\\unfairness_fairml\\Unfair_ML\\Data\\compas-scores-two-years.csv')\n",
    "dd = df[['sex', 'age', 'age_cat', 'race', 'decile_score', 'priors_count', 'score_text', 'c_charge_degree', 'two_year_recid', 'is_recid', 'days_b_screening_arrest',\n",
    "        'juv_fel_count', 'juv_misd_count']].replace({\n",
    "    'Greater than 45':'Above_FourtyFive',\n",
    "    'Less than 25':'Below_TwentyFive',\n",
    "    '25 - 45': 'Between_25_45',\n",
    "    'M':'Misdemeanor',\n",
    "    'F':'Felony'\n",
    "})\n",
    "\n",
    "dd = dd[(dd.days_b_screening_arrest <= 30) & (dd.days_b_screening_arrest >=-30)]\\\n",
    "        .drop(columns=['days_b_screening_arrest','is_recid', 'two_year_recid', 'age_cat'])\\\n",
    "        .assign(score_factor = lambda x: x['score_text'].map(lambda y: 1 if y=='Low' else 0))\n",
    "dd = dd[(dd.race=='African-American') | (dd.race=='Caucasian')]\n",
    "dd = dd.assign(\n",
    "    race = lambda x: (x['race'] == 'Caucasian')*1,\n",
    "    sex = lambda x: (x.sex == 'Male')*1,\n",
    "    felony = lambda x: (x.c_charge_degree == 'Felony')*1\n",
    "         ).drop(columns = ['score_text', 'c_charge_degree'])\n",
    "\n",
    "X = dd.drop(columns = ['score_factor', 'decile_score'])\n",
    "#Z = dd.race\n",
    "y = dd.score_factor\n",
    "sens_var='race'\n",
    "sensitive_value=0 \n",
    "y.value_counts(normalize=True)\n",
    "good_outcome=1 #low risk factor"
   ]
  },
  {
   "cell_type": "code",
   "execution_count": 87,
   "metadata": {},
   "outputs": [],
   "source": [
    "%run \"C:\\Users\\sgoethals\\Documents\\Research\\Project Oxford\\unfairness_fairml\\Unfair_ML\\functions\\clean_functions.py\""
   ]
  },
  {
   "cell_type": "code",
   "execution_count": 91,
   "metadata": {},
   "outputs": [
    {
     "data": {
      "text/html": [
       "<div>\n",
       "<style scoped>\n",
       "    .dataframe tbody tr th:only-of-type {\n",
       "        vertical-align: middle;\n",
       "    }\n",
       "\n",
       "    .dataframe tbody tr th {\n",
       "        vertical-align: top;\n",
       "    }\n",
       "\n",
       "    .dataframe thead th {\n",
       "        text-align: right;\n",
       "    }\n",
       "</style>\n",
       "<table border=\"1\" class=\"dataframe\">\n",
       "  <thead>\n",
       "    <tr style=\"text-align: right;\">\n",
       "      <th></th>\n",
       "      <th>protected</th>\n",
       "      <th>target</th>\n",
       "      <th>biased_scores</th>\n",
       "      <th>biased_preds</th>\n",
       "      <th>AUC</th>\n",
       "      <th>AUC_priv</th>\n",
       "      <th>AUC_prot</th>\n",
       "    </tr>\n",
       "  </thead>\n",
       "  <tbody>\n",
       "    <tr>\n",
       "      <th>687</th>\n",
       "      <td>True</td>\n",
       "      <td>0</td>\n",
       "      <td>0.490716</td>\n",
       "      <td>0</td>\n",
       "      <td>0.8206</td>\n",
       "      <td>0.800791</td>\n",
       "      <td>0.808251</td>\n",
       "    </tr>\n",
       "    <tr>\n",
       "      <th>4603</th>\n",
       "      <td>True</td>\n",
       "      <td>0</td>\n",
       "      <td>0.109793</td>\n",
       "      <td>0</td>\n",
       "      <td>0.8206</td>\n",
       "      <td>0.800791</td>\n",
       "      <td>0.808251</td>\n",
       "    </tr>\n",
       "    <tr>\n",
       "      <th>5495</th>\n",
       "      <td>True</td>\n",
       "      <td>0</td>\n",
       "      <td>0.060218</td>\n",
       "      <td>0</td>\n",
       "      <td>0.8206</td>\n",
       "      <td>0.800791</td>\n",
       "      <td>0.808251</td>\n",
       "    </tr>\n",
       "    <tr>\n",
       "      <th>5885</th>\n",
       "      <td>True</td>\n",
       "      <td>1</td>\n",
       "      <td>0.410152</td>\n",
       "      <td>0</td>\n",
       "      <td>0.8206</td>\n",
       "      <td>0.800791</td>\n",
       "      <td>0.808251</td>\n",
       "    </tr>\n",
       "    <tr>\n",
       "      <th>2968</th>\n",
       "      <td>False</td>\n",
       "      <td>0</td>\n",
       "      <td>0.305856</td>\n",
       "      <td>0</td>\n",
       "      <td>0.8206</td>\n",
       "      <td>0.800791</td>\n",
       "      <td>0.808251</td>\n",
       "    </tr>\n",
       "    <tr>\n",
       "      <th>...</th>\n",
       "      <td>...</td>\n",
       "      <td>...</td>\n",
       "      <td>...</td>\n",
       "      <td>...</td>\n",
       "      <td>...</td>\n",
       "      <td>...</td>\n",
       "      <td>...</td>\n",
       "    </tr>\n",
       "    <tr>\n",
       "      <th>1164</th>\n",
       "      <td>True</td>\n",
       "      <td>0</td>\n",
       "      <td>0.135425</td>\n",
       "      <td>0</td>\n",
       "      <td>0.8206</td>\n",
       "      <td>0.800791</td>\n",
       "      <td>0.808251</td>\n",
       "    </tr>\n",
       "    <tr>\n",
       "      <th>466</th>\n",
       "      <td>True</td>\n",
       "      <td>0</td>\n",
       "      <td>0.082687</td>\n",
       "      <td>0</td>\n",
       "      <td>0.8206</td>\n",
       "      <td>0.800791</td>\n",
       "      <td>0.808251</td>\n",
       "    </tr>\n",
       "    <tr>\n",
       "      <th>6793</th>\n",
       "      <td>True</td>\n",
       "      <td>0</td>\n",
       "      <td>0.480527</td>\n",
       "      <td>0</td>\n",
       "      <td>0.8206</td>\n",
       "      <td>0.800791</td>\n",
       "      <td>0.808251</td>\n",
       "    </tr>\n",
       "    <tr>\n",
       "      <th>7046</th>\n",
       "      <td>False</td>\n",
       "      <td>1</td>\n",
       "      <td>0.826899</td>\n",
       "      <td>1</td>\n",
       "      <td>0.8206</td>\n",
       "      <td>0.800791</td>\n",
       "      <td>0.808251</td>\n",
       "    </tr>\n",
       "    <tr>\n",
       "      <th>3986</th>\n",
       "      <td>False</td>\n",
       "      <td>0</td>\n",
       "      <td>0.650841</td>\n",
       "      <td>1</td>\n",
       "      <td>0.8206</td>\n",
       "      <td>0.800791</td>\n",
       "      <td>0.808251</td>\n",
       "    </tr>\n",
       "  </tbody>\n",
       "</table>\n",
       "<p>1319 rows × 7 columns</p>\n",
       "</div>"
      ],
      "text/plain": [
       "      protected  target  biased_scores  biased_preds     AUC  AUC_priv  \\\n",
       "687        True       0       0.490716             0  0.8206  0.800791   \n",
       "4603       True       0       0.109793             0  0.8206  0.800791   \n",
       "5495       True       0       0.060218             0  0.8206  0.800791   \n",
       "5885       True       1       0.410152             0  0.8206  0.800791   \n",
       "2968      False       0       0.305856             0  0.8206  0.800791   \n",
       "...         ...     ...            ...           ...     ...       ...   \n",
       "1164       True       0       0.135425             0  0.8206  0.800791   \n",
       "466        True       0       0.082687             0  0.8206  0.800791   \n",
       "6793       True       0       0.480527             0  0.8206  0.800791   \n",
       "7046      False       1       0.826899             1  0.8206  0.800791   \n",
       "3986      False       0       0.650841             1  0.8206  0.800791   \n",
       "\n",
       "      AUC_prot  \n",
       "687   0.808251  \n",
       "4603  0.808251  \n",
       "5495  0.808251  \n",
       "5885  0.808251  \n",
       "2968  0.808251  \n",
       "...        ...  \n",
       "1164  0.808251  \n",
       "466   0.808251  \n",
       "6793  0.808251  \n",
       "7046  0.808251  \n",
       "3986  0.808251  \n",
       "\n",
       "[1319 rows x 7 columns]"
      ]
     },
     "execution_count": 91,
     "metadata": {},
     "output_type": "execute_result"
    }
   ],
   "source": [
    "val_results"
   ]
  },
  {
   "cell_type": "code",
   "execution_count": 88,
   "metadata": {},
   "outputs": [
    {
     "name": "stdout",
     "output_type": "stream",
     "text": [
      "Run biased model\n",
      "The AUC of the biased model (validation set) is: 0.8206001455791839\n",
      "The AUC of the biased model (test set) is: 0.8111672523550192\n",
      "The AUC of the biased model for the protected group (validation set) is: 0.8082514658234258\n",
      "The AUC of the biased model for the privileged group (validation set) is: 0.8007908438942923\n",
      "The AUC of the biased model for the protected group (test set) is: 0.7929468184653775\n",
      "The AUC of the biased model for the privileged group (test set) is: 0.7967688740856844\n",
      "Calculate demographic parity\n"
     ]
    },
    {
     "name": "stderr",
     "output_type": "stream",
     "text": [
      "100%|██████████| 100/100 [00:05<00:00, 19.42it/s]\n"
     ]
    },
    {
     "name": "stdout",
     "output_type": "stream",
     "text": [
      "Calculate equality of opportunity\n"
     ]
    },
    {
     "name": "stderr",
     "output_type": "stream",
     "text": [
      "100%|██████████| 100/100 [04:22<00:00,  2.63s/it]\n"
     ]
    },
    {
     "name": "stdout",
     "output_type": "stream",
     "text": [
      "Calculate precision\n"
     ]
    },
    {
     "name": "stderr",
     "output_type": "stream",
     "text": [
      "100%|██████████| 100/100 [00:00<00:00, 108.87it/s]\n"
     ]
    },
    {
     "name": "stdout",
     "output_type": "stream",
     "text": [
      "Calculate recall\n"
     ]
    },
    {
     "name": "stderr",
     "output_type": "stream",
     "text": [
      "100%|██████████| 100/100 [00:00<00:00, 138.81it/s]\n"
     ]
    }
   ],
   "source": [
    "model='xgb'\n",
    "test_results, val_results=run_constraints_xgb(X,y, sens_var, sensitive_value)\n",
    "test_metrics=run_all_results_clean(test_results, val_results, good_outcome)"
   ]
  },
  {
   "cell_type": "code",
   "execution_count": 89,
   "metadata": {},
   "outputs": [
    {
     "name": "stdout",
     "output_type": "stream",
     "text": [
      "Percentage of people in the protected group 0.6015151515151516\n",
      "Percentage of people with the target value 0.5212121212121212\n",
      "The base rate disparity is 0.24602771738609913\n"
     ]
    }
   ],
   "source": [
    "print('Percentage of people in the protected group {}'.format(test_results.protected.mean()))\n",
    "print('Percentage of people with the target value {}'.format(test_results.target.mean()))\n",
    "print('The base rate disparity is {}'.format(test_results[test_results.protected==False].target.value_counts(normalize=True)[good_outcome] - test_results[test_results.protected==True].target.value_counts(normalize=True)[good_outcome]))\n"
   ]
  },
  {
   "cell_type": "code",
   "execution_count": 90,
   "metadata": {},
   "outputs": [
    {
     "name": "stdout",
     "output_type": "stream",
     "text": [
      "The base rate disparity is 0.24602771738609913\n",
      "The average cost of fairness (DP) is 0.02463820953039658\n",
      "The average cost of fairness (EO) is 0.013320346719796716\n"
     ]
    }
   ],
   "source": [
    "#base rate disparity\n",
    "print('The base rate disparity is {}'.format(test_results[test_results.protected==False].target.value_counts(normalize=True)[good_outcome] - test_results[test_results.protected==True].target.value_counts(normalize=True)[good_outcome]))\n",
    "print('The average cost of fairness (DP) is {}'.format(mean([a - b for a, b in zip(test_metrics['prec_unfair'], test_metrics['prec_dp'])])))\n",
    "print('The average cost of fairness (EO) is {}'.format(mean([a - b for a, b in zip(test_metrics['prec_unfair'], test_metrics['prec_eo'])])))"
   ]
  },
  {
   "cell_type": "code",
   "execution_count": 93,
   "metadata": {},
   "outputs": [],
   "source": [
    "# save results\n",
    "import pickle\n",
    "\n",
    "with open(f'Results/Compas_test_results.pkl', 'wb') as f:\n",
    "    pickle.dump(test_results, f)\n",
    "with open(f'Results/Compas_test_metrics.pkl', 'wb') as f:\n",
    "    pickle.dump(test_metrics, f)"
   ]
  },
  {
   "cell_type": "code",
   "execution_count": 68,
   "metadata": {},
   "outputs": [],
   "source": [
    "%run \"C:\\Users\\sgoethals\\Documents\\Research\\Project Oxford\\unfairness_fairml\\Unfair_ML\\functions\\visualisations.py\""
   ]
  },
  {
   "cell_type": "code",
   "execution_count": 92,
   "metadata": {},
   "outputs": [
    {
     "data": {
      "image/png": "[encoded data removed]",
      "text/plain": [
       "<Figure size 432x288 with 1 Axes>"
      ]
     },
     "metadata": {},
     "output_type": "display_data"
    }
   ],
   "source": [
    "C_list=[i for i in np.linspace(start=1, stop=len(test_results), num=100, dtype=int)]\n",
    "dataset='Compas'\n",
    "plot_cost(test_metrics['prec_unfair'],test_metrics['prec_dp'],C_list, test_results, 'precision', 'DP', dataset, test_metrics['prec_eo'], 'EO')   "
   ]
  }
 ],
 "metadata": {
  "kernelspec": {
   "display_name": "Fairness",
   "language": "python",
   "name": "python3"
  },
  "language_info": {
   "codemirror_mode": {
    "name": "ipython",
    "version": 3
   },
   "file_extension": ".py",
   "mimetype": "text/x-python",
   "name": "python",
   "nbconvert_exporter": "python",
   "pygments_lexer": "ipython3",
   "version": "3.7.11"
  }
 },
 "nbformat": 4,
 "nbformat_minor": 2
}
